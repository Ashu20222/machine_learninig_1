{
 "cells": [
  {
   "cell_type": "markdown",
   "id": "bf7e6db6",
   "metadata": {},
   "source": [
    "# Introduction to Clustering"
   ]
  },
  {
   "cell_type": "markdown",
   "id": "d621d501",
   "metadata": {},
   "source": [
    "## Understanding Clustering"
   ]
  },
  {
   "cell_type": "markdown",
   "id": "1b5e83e9",
   "metadata": {},
   "source": [
    "Clustering\n",
    "Clustering is an unsupervised machine learning technique. It is used to place the data elements into related groups without any prior knowledge of the group definitions. Select which of the following is a clustering task?\n",
    "\n",
    "\n",
    "A baby is given some toys to play. These toys consist of various animals, vehicles and houses, but the baby is unaware of these categories. The baby chooses different toys and starts making different groups with the toys based on what he feels are similar toys.\n",
    "✓ Correct"
   ]
  },
  {
   "cell_type": "code",
   "execution_count": null,
   "id": "8a19f446",
   "metadata": {},
   "outputs": [],
   "source": []
  },
  {
   "cell_type": "markdown",
   "id": "3fa76e59",
   "metadata": {},
   "source": [
    "Clustering\n",
    "We have learnt about three different types of machine learning techniques - regression, classification and clustering. Which of the following techniques does not require bifurcation of data points into dependent and independent variables?\n",
    "\n",
    "\n",
    "Regression\n",
    "\n",
    "Classification\n",
    "\n",
    "Clustering    ✓ Correct"
   ]
  },
  {
   "cell_type": "code",
   "execution_count": null,
   "id": "e37f5944",
   "metadata": {},
   "outputs": [],
   "source": []
  },
  {
   "cell_type": "markdown",
   "id": "ed45675a",
   "metadata": {},
   "source": [
    "## Practical Example of Clustering - Customer Segmentation"
   ]
  },
  {
   "cell_type": "markdown",
   "id": "02e547c9",
   "metadata": {},
   "source": [
    "Type of Segmentation\n",
    "A telecom company classifies its prepaid mobile customers into three types mainly based on the number of times they recharge per month. This is a type of:\n",
    "\n",
    "\n",
    "Behavioral segmentation   ✓ Correct"
   ]
  },
  {
   "cell_type": "code",
   "execution_count": null,
   "id": "f6c8b374",
   "metadata": {},
   "outputs": [],
   "source": []
  },
  {
   "cell_type": "markdown",
   "id": "bbd59c61",
   "metadata": {},
   "source": [
    "Clustering\n",
    "An international foods and beverages company wants to look at what products it should launch in India. For that, it has first tried to segment the market. It is known that people living in the same area and having similar salaries will have similar eating habits. Then which of the following can be segmented in 1 group? (All options in 1 bracket are 1 segment)\n",
    "\n",
    "A. High Earning Individual from Bengaluru\n",
    "\n",
    "B. Low Earning Individual from Rural Uttar Pradesh\n",
    "\n",
    "C. Mid Earning Individual from Mumbai\n",
    "\n",
    "D. High Earning Individual from Hyderabad\n",
    "\n",
    "\n",
    "(A,B,C,D)\n",
    "\n",
    "(B,D) - (A) - (C)\n",
    "\n",
    "(A,D) - (B) - (C)   ✓ Correct"
   ]
  },
  {
   "cell_type": "code",
   "execution_count": null,
   "id": "cbd279e8",
   "metadata": {},
   "outputs": [],
   "source": []
  },
  {
   "cell_type": "markdown",
   "id": "2d7af04f",
   "metadata": {},
   "source": [
    "Segmentation Factors\n",
    "You learnt that clustering is commonly used for segmenting customers. Can you think of some features on which you would want to segment the customers of an online store? Go back and check the data ‘online retail’ if needed.\n",
    "\n",
    "ans:\n",
    "    Some of the features can be how much the people spend on buying goods from the store. Another one can be the number of times they bought goods in the last one year. Finally, you can also look at the time they last bought a good from the store.\n"
   ]
  },
  {
   "cell_type": "code",
   "execution_count": null,
   "id": "7d7c15f6",
   "metadata": {},
   "outputs": [],
   "source": []
  },
  {
   "cell_type": "markdown",
   "id": "7a92b709",
   "metadata": {},
   "source": [
    "Segmentation Types\n",
    "You are an analyst at a global laptop manufacturer and are given the task of deciding whether the company should enter the Indian Market. You try to estimate the market size by first breaking the market by different types of people who use a laptop such as students, working professionals and their paying capacity to get an estimate of the total market size and the characteristics of each segment. In essence, you are doing:\n",
    "\n",
    "\n",
    "Behavioural Segmentation\n",
    "\n",
    "Attitudinal Segmentation\n",
    "\n",
    "Demographic Segmentation   ✓ Correct"
   ]
  },
  {
   "cell_type": "code",
   "execution_count": null,
   "id": "2d868de8",
   "metadata": {},
   "outputs": [],
   "source": []
  },
  {
   "cell_type": "markdown",
   "id": "d69b274b",
   "metadata": {},
   "source": [
    "## Graded Questions"
   ]
  },
  {
   "cell_type": "markdown",
   "id": "8c722a6d",
   "metadata": {},
   "source": [
    "Clustering\n",
    "Which of the following are applications of clustering?\n",
    "\n",
    "\n",
    "Looking at social media behaviour to find out what types of online communities are there\n",
    "\n",
    "Identify consumer segments and their properties to position products appropriately\n",
    "\n",
    "Identifying patterns of crime in different regions of a city and managing police enforcement based on frequency and type of crime\n",
    "\n",
    "All of the above    ✓ Correct"
   ]
  },
  {
   "cell_type": "code",
   "execution_count": null,
   "id": "bc0d973e",
   "metadata": {},
   "outputs": [],
   "source": []
  },
  {
   "cell_type": "markdown",
   "id": "49747398",
   "metadata": {},
   "source": [
    "# K Means Clustering"
   ]
  },
  {
   "cell_type": "markdown",
   "id": "f8400466",
   "metadata": {},
   "source": [
    "## Euclidean Distance"
   ]
  },
  {
   "cell_type": "markdown",
   "id": "b9ab6223",
   "metadata": {},
   "source": [
    "Euclidean Distance.\n",
    "Consider the 2 points A(7,50) and B(23,34). Compute the Euclidean Distance between the two.\n",
    "\n",
    "[Round off the answer to 2 decimal places.]\n",
    "\n",
    "\n",
    "21.78\n",
    "\n",
    "\n",
    "25.47\n",
    "\n",
    "\n",
    "23.12\n",
    "\n",
    "\n",
    "22.63   ✓ Correct"
   ]
  },
  {
   "cell_type": "code",
   "execution_count": null,
   "id": "90eb06ba",
   "metadata": {},
   "outputs": [],
   "source": []
  },
  {
   "cell_type": "markdown",
   "id": "68149fb9",
   "metadata": {},
   "source": [
    "Euclidean Distance\n",
    "Consider the same 2 points A(7,50) and B(23,34). Which point is closer to point C(12,12)?\n",
    "\n",
    "\n",
    "B   ✓ Correct"
   ]
  },
  {
   "cell_type": "code",
   "execution_count": null,
   "id": "731fe47f",
   "metadata": {},
   "outputs": [],
   "source": []
  },
  {
   "cell_type": "markdown",
   "id": "1c8fcbf0",
   "metadata": {},
   "source": [
    "## Centroid"
   ]
  },
  {
   "cell_type": "markdown",
   "id": "4ecf909d",
   "metadata": {},
   "source": [
    "Centroid Calculations\n",
    "Find the centroid of the following 5 observations\n",
    "\n",
    "18.4, 21.4, 32.1\n",
    "\n",
    "\n",
    "34.6, 21.4, 18.4\n",
    "\n",
    "\n",
    "18.4, 21.4, 34.6    ✓ Correct"
   ]
  },
  {
   "cell_type": "code",
   "execution_count": null,
   "id": "8e9323cd",
   "metadata": {},
   "outputs": [],
   "source": []
  },
  {
   "cell_type": "markdown",
   "id": "f62b3be1",
   "metadata": {},
   "source": [
    "## Steps of the Algorithm"
   ]
  },
  {
   "cell_type": "markdown",
   "id": "f563930b",
   "metadata": {},
   "source": [
    "K-Means algorithm\n",
    "Find the distance of each of the 10 points from the two cluster centers (in column H & I) and fill the cells S6:T16. Select the distance formula to be used to find the distance of a point (xi,yi) from a centre (Xi,Yi).\n",
    "\n",
    "\n",
    "SQRT((Xi-xi) + (Yi-yi))\n",
    "\n",
    "((Xi-xi)^2) + ((Yi-yi)^2)\n",
    "\n",
    "SQRT(((Xi-xi)^2) + (Yi-yi)^2))   ✓ Correct"
   ]
  },
  {
   "cell_type": "code",
   "execution_count": null,
   "id": "ebfc5a6e",
   "metadata": {},
   "outputs": [],
   "source": []
  },
  {
   "cell_type": "markdown",
   "id": "196cb06c",
   "metadata": {},
   "source": [
    "K-Means algorithm\n",
    "In the next step of k-means clustering, you need to find the new cluster centers (H22:I23). Select the correct method used to find the new cluster centers.\n",
    "\n",
    "\n",
    "Calculate the mode of the points assigned to a particular cluster in the previous step\n",
    "\n",
    "Calculate the centroid of the points assigned to a particular cluster in the previous step   ✓ Correct"
   ]
  },
  {
   "cell_type": "code",
   "execution_count": null,
   "id": "90d5c38a",
   "metadata": {},
   "outputs": [],
   "source": []
  },
  {
   "cell_type": "markdown",
   "id": "7eb39fab",
   "metadata": {},
   "source": [
    "K-Means algorithm\n",
    "Repeating the previous two steps again, you get the new cluster centers (H38:I39).Continue this process until the algorithm converges (Two consecutive iterations have the same center). What are the x and y coordinates of the center of cluster 1 finally?\n",
    "\n",
    "\n",
    "16.6, 5.6\n",
    "\n",
    "5.6, 5.4   ✓ Correct"
   ]
  },
  {
   "cell_type": "code",
   "execution_count": null,
   "id": "598fc32c",
   "metadata": {},
   "outputs": [],
   "source": []
  },
  {
   "cell_type": "markdown",
   "id": "5eb3d7ed",
   "metadata": {},
   "source": [
    "## Visualising the K Means Algorithm"
   ]
  },
  {
   "cell_type": "markdown",
   "id": "6b7a2383",
   "metadata": {},
   "source": [
    "K-Means algorithm\n",
    "Consider the above arrangement of points. How many clusters do you intuitively feel are present. What will happen if you use K-Means clustering here? How do you think this problem can be solved?\n",
    "\n",
    "ans:\n",
    "    Intuitively, it looks like 2 clusters are present. If we use K means, then we will get wrong clusters since the points in the outer ring like structure will not be segmented accurately. A reason for that is K-Means looks for how close the points are to a centroid and this distance or measure of closeness is the “linear distance”. One way to correct this can be to see the distance between all the points and then cluster the closest points.\n"
   ]
  },
  {
   "cell_type": "code",
   "execution_count": null,
   "id": "d45cc36f",
   "metadata": {},
   "outputs": [],
   "source": []
  },
  {
   "cell_type": "markdown",
   "id": "21adb4af",
   "metadata": {},
   "source": [
    "K-Means algorithm\n",
    "In this exercise, you will perform k-means clustering manually on a small dataset. Consider the following dataset having 2 features and 6 observations.\n",
    "\n",
    "(1, 3, 5) and (2, 4, 6)\n",
    "\n",
    "(1, 5, 6) and (2, 3, 4)\n",
    "\n",
    "(1, 2, 3) and (4, 5, 6)   ✓ Correct"
   ]
  },
  {
   "cell_type": "code",
   "execution_count": null,
   "id": "b8ae8acf",
   "metadata": {},
   "outputs": [],
   "source": []
  },
  {
   "cell_type": "markdown",
   "id": "3812b324",
   "metadata": {},
   "source": [
    "## Practical Consideration in K Means Algorithm"
   ]
  },
  {
   "cell_type": "markdown",
   "id": "99c1295f",
   "metadata": {},
   "source": [
    "K-Means algorithm\n",
    "If we are worried about K-means getting stuck in bad local optima, one way to solve this problem is if we try using multiple random initializations. Is this true or false? You can read about local optimum and global optimum here\n",
    "\n",
    "\n",
    "True   ✓ Correct"
   ]
  },
  {
   "cell_type": "code",
   "execution_count": null,
   "id": "4bc93aaa",
   "metadata": {},
   "outputs": [],
   "source": []
  },
  {
   "cell_type": "markdown",
   "id": "c9ce24db",
   "metadata": {},
   "source": [
    "## Graded Questions"
   ]
  },
  {
   "cell_type": "markdown",
   "id": "5e4dc5ad",
   "metadata": {},
   "source": [
    "K-Means algorithm\n",
    "Arrange the steps of k-means algorithm in the order in which they occur:\n",
    "\n",
    "Randomly selecting the cluster centroids\n",
    "Updating the cluster centroids iteratively\n",
    "Assigning the cluster points to their nearest center\n",
    "\n",
    "1-2-3\n",
    "\n",
    "1-3-2    ✓ Correct"
   ]
  },
  {
   "cell_type": "code",
   "execution_count": null,
   "id": "47172985",
   "metadata": {},
   "outputs": [],
   "source": []
  },
  {
   "cell_type": "markdown",
   "id": "9e2733be",
   "metadata": {},
   "source": [
    "K-Means algorithm\n",
    "Consider three cluster centres A(2,3), B(4,5) and C(6,2). A point (1,2) is to be assigned to one of these clusters. According to k-means clustering concepts and using euclidean distance as the measure of closeness, which cluster should it be assigned to?\n",
    "\n",
    "\n",
    "A    ✓ Correct"
   ]
  },
  {
   "cell_type": "code",
   "execution_count": null,
   "id": "93d05cb5",
   "metadata": {},
   "outputs": [],
   "source": []
  },
  {
   "cell_type": "markdown",
   "id": "73f56414",
   "metadata": {},
   "source": [
    "K-Means algorithm\n",
    "Which of the following options are prerequisites for k-means algorithm:\n",
    "\n",
    " \n",
    "\n",
    "A) initial centers should be very close to each other\n",
    "\n",
    "B) Choice of number of clusters\n",
    "\n",
    "C) Choice of initial centroids\n",
    "\n",
    "\n",
    "Only A\n",
    "\n",
    "B & C   ✓ Correct"
   ]
  },
  {
   "cell_type": "code",
   "execution_count": null,
   "id": "73f2250f",
   "metadata": {},
   "outputs": [],
   "source": []
  },
  {
   "cell_type": "markdown",
   "id": "ed55bbea",
   "metadata": {},
   "source": [
    "# Executing K Means in Python"
   ]
  },
  {
   "cell_type": "markdown",
   "id": "35972214",
   "metadata": {},
   "source": [
    "## Let's Have Some Fun"
   ]
  },
  {
   "cell_type": "markdown",
   "id": "445da16e",
   "metadata": {},
   "source": [
    "K - Means in Python\n",
    "Which parameters do you think are the most important for segmenting the states? How did you decide this?\n",
    "\n",
    "ans:\n",
    "    The parameters used depend on the question at hand. We can choose different age groups and different categories such as graduate or above etc."
   ]
  },
  {
   "cell_type": "code",
   "execution_count": null,
   "id": "4e87500c",
   "metadata": {},
   "outputs": [],
   "source": []
  },
  {
   "cell_type": "markdown",
   "id": "abc6d052",
   "metadata": {},
   "source": [
    "K - Means in Python\n",
    "How will you check if the segmenting is good or whether you need to use different factors for segmenting?\n",
    "\n",
    "ans:\n",
    "    One really easy way is to see if the .are logically correct. For example, we can check if states in a similar geography and economic situation are clustered together or not. You can also run hypothesis test to check whether the population of different clusters is significantly different or not, If you look at the data, you can see that some specific customers or some specific states should be grouped together."
   ]
  },
  {
   "cell_type": "code",
   "execution_count": null,
   "id": "3a52aa61",
   "metadata": {},
   "outputs": [],
   "source": []
  },
  {
   "cell_type": "markdown",
   "id": "2235d92a",
   "metadata": {},
   "source": [
    "K - Means in Python\n",
    "How are the clusters different when we have not scaled compared to clusters formed after scaling?\n",
    "\n",
    "\n",
    "Illiteracy percentage gets higher weightage when there is no scaling    ✓ Correct"
   ]
  },
  {
   "cell_type": "code",
   "execution_count": null,
   "id": "ad4d474b",
   "metadata": {},
   "outputs": [],
   "source": []
  },
  {
   "cell_type": "markdown",
   "id": "cc1a34d6",
   "metadata": {},
   "source": [
    "## Graded Questions"
   ]
  },
  {
   "cell_type": "markdown",
   "id": "b4f7f321",
   "metadata": {},
   "source": [
    "K-Means algorithm\n",
    "Select the problem sets, where k-means clustering can be applied.\n",
    "\n",
    "\n",
    "Weather forecast for next week, given the dataset of weather information for last five years\n",
    "\n",
    "Given an ecom company’s customer details - the products they purchased and the amount spent. The company wants to group it’s customers based on their buying behaviour.    ✓ Correct"
   ]
  },
  {
   "cell_type": "code",
   "execution_count": null,
   "id": "d92fb8b5",
   "metadata": {},
   "outputs": [],
   "source": []
  },
  {
   "cell_type": "markdown",
   "id": "5cf1f498",
   "metadata": {},
   "source": [
    "K-Means algorithm\n",
    "Select the correct statement among the following:\n",
    "\n",
    "\n",
    "The clusters formed by k-means algorithm do not depend on the initial selection of cluster centers.\n",
    "\n",
    "The results of k-means algorithm get impacted by outliers and range of the attributes.    ✓ Correct"
   ]
  },
  {
   "cell_type": "code",
   "execution_count": null,
   "id": "e7408873",
   "metadata": {},
   "outputs": [],
   "source": []
  },
  {
   "cell_type": "markdown",
   "id": "2fb672d5",
   "metadata": {},
   "source": [
    "Cricket\n",
    "Choose the number of clusters as 4. Who falls in the same cluster as Virat Kohli?\n",
    "\n",
    "\n",
    "ST Jayasuriya\n",
    "\n",
    "\n",
    "SR Tendulkar   ✓ Correct"
   ]
  },
  {
   "cell_type": "code",
   "execution_count": null,
   "id": "b54f4a59",
   "metadata": {},
   "outputs": [],
   "source": []
  },
  {
   "cell_type": "markdown",
   "id": "7d6db31e",
   "metadata": {},
   "source": [
    "Cricket\n",
    "Based on the clustering, choose the correct statement given that the clusters formed are (high SR, high Ave) - A, (low SR, low Ave) - B, (High SR, Low Ave) - C, (Low SR, High Ave) - D\n",
    "\n",
    "\n",
    "IVA RIchards and SR Tendulkar both belong to group A   ✓ Correct"
   ]
  },
  {
   "cell_type": "code",
   "execution_count": null,
   "id": "109a16c4",
   "metadata": {},
   "outputs": [],
   "source": []
  },
  {
   "cell_type": "markdown",
   "id": "1c79d0f9",
   "metadata": {},
   "source": [
    "## Non - Graded Assessments (Python)"
   ]
  },
  {
   "cell_type": "markdown",
   "id": "6be26491",
   "metadata": {},
   "source": [
    "Prime Numbers\n",
    "Description\n",
    "Given a positive integer n, your task is to print prime numbers up to the number n, starting from 2.\n",
    "Note: n>=2\n",
    "    \n",
    "ans:\n",
    "    \n",
    "n=int(input())\n",
    "\n",
    "for x in [x for x in range(2, n+1) if all(x % y != 0 for y in range(2, x))]:\n",
    "    print(x)"
   ]
  },
  {
   "cell_type": "code",
   "execution_count": null,
   "id": "cf7957e2",
   "metadata": {},
   "outputs": [],
   "source": []
  },
  {
   "cell_type": "markdown",
   "id": "4644d9c8",
   "metadata": {},
   "source": [
    "Substring in Alphabetical order\n",
    "Description\n",
    "There is some code written below for you.\n",
    "The Python program is supposed to find the longest consecutive sub-string in alphabetical order in a given string.\n",
    "Note that the order determination is case insensitive, i.e. the string \"Ab\" is considered to be in alphabetical order. You can assume that the input will not have string where the number of possible consecutive sub-strings in alphabetical order is 0. i.e. the input will not have a string like \"zxec\".\n",
    "\n",
    "ans:\n",
    "    \n",
    "string=input()\n",
    "prevChar = \"\"\n",
    "curr_longest = \"\"\n",
    "longest = \"\"\n",
    "\n",
    "for char in string:\n",
    "    if (prevChar.lower()<=char.lower()):\n",
    "        curr_longest += char\n",
    "        if len(curr_longest) > len(longest):\n",
    "            longest= curr_longest\n",
    "    else:\n",
    "        curr_longest = char\n",
    "    prevChar = char\n",
    "print( longest )"
   ]
  },
  {
   "cell_type": "code",
   "execution_count": null,
   "id": "868e9ea8",
   "metadata": {},
   "outputs": [],
   "source": []
  },
  {
   "cell_type": "markdown",
   "id": "1787331d",
   "metadata": {},
   "source": [
    "Reverse Pyramid\n",
    "Description\n",
    "Print an n level reverse pyramid as follows where n is a positive integer taken as input.\n",
    "Each triangle will be made out of “*” symbols and the spaces will be filled by \"#\" symbols for each row. For example, a 3 level reverse pyramid will look as follows:\n",
    "    \n",
    "ans:\n",
    "    \n",
    "n=int(input())\n",
    "\n",
    "i=n-1\n",
    "while i>-1:\n",
    "        print('#'*(n-i-1) + '*'*(2*i+1)+'#'*(n-i-1))\n",
    "        i=i-1"
   ]
  },
  {
   "cell_type": "code",
   "execution_count": null,
   "id": "1833666a",
   "metadata": {},
   "outputs": [],
   "source": []
  },
  {
   "cell_type": "markdown",
   "id": "f67174a0",
   "metadata": {},
   "source": [
    "Printing A Pyramid\n",
    "Description\n",
    "Print an n level pyramid as follows where n is a positive integer taken as input.\n",
    "Each triangle will be made out of “*” symbols and the spaces will be filled by \"#\" symbols for each row. For example, a 3 level pyramid will look as follows:\n",
    "\n",
    "ans:\n",
    "    \n",
    "n=int(input())\n",
    "\n",
    "for i in range(n):\n",
    "        print('#'*(n-i-1) + '*'*(2*i+1)+'#'*(n-i-1))"
   ]
  },
  {
   "cell_type": "code",
   "execution_count": null,
   "id": "e4881524",
   "metadata": {},
   "outputs": [],
   "source": []
  },
  {
   "cell_type": "markdown",
   "id": "5278ac60",
   "metadata": {},
   "source": [
    "# Hierarchical Clustering"
   ]
  },
  {
   "cell_type": "markdown",
   "id": "94b6c6d0",
   "metadata": {},
   "source": [
    "## Hierarchical Clustering Algorithm"
   ]
  },
  {
   "cell_type": "markdown",
   "id": "9f8eb5c7",
   "metadata": {},
   "source": [
    "Hierarchical Clustering\n",
    "You had made clusters for it using the K-Means algorithm. How do you think clusters will be made using hierarchical algorithm on this data?\n",
    "\n",
    "ans:\n",
    "    \n",
    "    Since now you are looking at the closest distance between clusters, you will get two clusters - one at the center and the one which contains the points at the edges."
   ]
  },
  {
   "cell_type": "code",
   "execution_count": null,
   "id": "6e6c823a",
   "metadata": {},
   "outputs": [],
   "source": []
  },
  {
   "cell_type": "markdown",
   "id": "d421b43e",
   "metadata": {},
   "source": [
    "Hierarchical Clustering\n",
    "Look at the following matrix. This is the distance matrix between 4 points - A, B,C, D. Find out which 2 clusters will merge first.\n",
    "\n",
    "A-B    ✓ Correct"
   ]
  },
  {
   "cell_type": "code",
   "execution_count": null,
   "id": "35405fc4",
   "metadata": {},
   "outputs": [],
   "source": []
  },
  {
   "cell_type": "markdown",
   "id": "1cc8834f",
   "metadata": {},
   "source": [
    "## Interpreting the Dendrogram"
   ]
  },
  {
   "cell_type": "markdown",
   "id": "b0a30223",
   "metadata": {},
   "source": [
    "Hierarchical Clustering\n",
    "How many clusters are there initially (before any fusions have happened)?\n",
    "\n",
    "\n",
    "None\n",
    "\n",
    "1\n",
    "\n",
    "4\n",
    "\n",
    "5   ✓ Correct"
   ]
  },
  {
   "cell_type": "code",
   "execution_count": null,
   "id": "e0700b26",
   "metadata": {},
   "outputs": [],
   "source": []
  },
  {
   "cell_type": "markdown",
   "id": "c729631a",
   "metadata": {},
   "source": [
    "Hierarchical Clustering\n",
    "Which two clusters will be fused first?\n",
    "\n",
    "\n",
    "1 and 2\n",
    "\n",
    "3 and 4   ✓ Correct"
   ]
  },
  {
   "cell_type": "code",
   "execution_count": null,
   "id": "385b13ff",
   "metadata": {},
   "outputs": [],
   "source": []
  },
  {
   "cell_type": "markdown",
   "id": "91da2db1",
   "metadata": {},
   "source": [
    "Hierarchical Clustering\n",
    "Which clusters will be fused in step two?\n",
    "\n",
    "\n",
    "1 will be fused with 2\n",
    "\n",
    "2 will be fused with 5\n",
    "\n",
    "1 will be fused with the cluster(3, 4)   ✓ Correct"
   ]
  },
  {
   "cell_type": "code",
   "execution_count": null,
   "id": "02bd33f7",
   "metadata": {},
   "outputs": [],
   "source": []
  },
  {
   "cell_type": "markdown",
   "id": "01ac2e6b",
   "metadata": {},
   "source": [
    "Hierarchical Clustering\n",
    "How many total clusters are there right after point number 1 fuses with the cluster(3, 4)?\n",
    "\n",
    "\n",
    "3    ✓ Correct"
   ]
  },
  {
   "cell_type": "code",
   "execution_count": null,
   "id": "5fcfa96a",
   "metadata": {},
   "outputs": [],
   "source": []
  },
  {
   "cell_type": "markdown",
   "id": "ec06a8fc",
   "metadata": {},
   "source": [
    "Hierarchical Clustering\n",
    "Which clusters will be fused after 1 fuses with (3, 4)?\n",
    "\n",
    "\n",
    "2 and 5 will fuse with each other\n",
    "\n",
    "5 will fuse with the cluster (1, 3, 4)\n",
    "\n",
    "2 will fuse with the cluster (1, 3, 4)   ✓ Correct"
   ]
  },
  {
   "cell_type": "code",
   "execution_count": null,
   "id": "c70401d1",
   "metadata": {},
   "outputs": [],
   "source": []
  },
  {
   "cell_type": "markdown",
   "id": "c40c929a",
   "metadata": {},
   "source": [
    "Hierarchical Clustering\n",
    "What happens in the last step of the algorithm?\n",
    "\n",
    "\n",
    "1 fuses with (2, 3, 4, 5)\n",
    "\n",
    "5 fuses with ( 1, 2, 3, 4)   ✓ Correct"
   ]
  },
  {
   "cell_type": "code",
   "execution_count": null,
   "id": "29c51b20",
   "metadata": {},
   "outputs": [],
   "source": []
  },
  {
   "cell_type": "markdown",
   "id": "f610a40a",
   "metadata": {},
   "source": [
    "## Types of Linkages"
   ]
  },
  {
   "cell_type": "markdown",
   "id": "7ef44cd8",
   "metadata": {},
   "source": [
    "Hierarchical Clustering\n",
    "Select the appropriate option which describes the Complete Linkage method.\n",
    "\n",
    "\n",
    "In complete linkage hierarchical clustering, the inter cluster distance is defined as the shortest distance between two points (one point in each cluster).\n",
    "\n",
    "In complete linkage hierarchical clustering, the inter cluster distance is defined as the longest distance between two points (one point in each cluster)   ✓ Correct"
   ]
  },
  {
   "cell_type": "code",
   "execution_count": null,
   "id": "d62f7fbc",
   "metadata": {},
   "outputs": [],
   "source": []
  },
  {
   "cell_type": "markdown",
   "id": "3c9061ba",
   "metadata": {},
   "source": [
    "Hierarchical Clustering\n",
    "Select the points which get clustered in the first iteration.(First iteration is defined as the first merging of clusters - ie, from n clusters to n-1 clusters)\n",
    "\n",
    "\n",
    "A, B\n",
    "\n",
    "B, C\n",
    "\n",
    "C, D  ✓ Correct"
   ]
  },
  {
   "cell_type": "code",
   "execution_count": null,
   "id": "476dddff",
   "metadata": {},
   "outputs": [],
   "source": []
  },
  {
   "cell_type": "markdown",
   "id": "2ede1afd",
   "metadata": {},
   "source": [
    "Hierarchical Clustering\n",
    "Select the points which get clustered in the second iteration. Use single linkage method\n",
    "\n",
    "\n",
    "A, B\n",
    "\n",
    "A, F\n",
    "\n",
    "B, E\n",
    "\n",
    "A, E   ✓ Correct"
   ]
  },
  {
   "cell_type": "code",
   "execution_count": null,
   "id": "c4542219",
   "metadata": {},
   "outputs": [],
   "source": []
  },
  {
   "cell_type": "markdown",
   "id": "cdb3afc7",
   "metadata": {},
   "source": [
    "Hierarchical Clustering\n",
    "How many iterations are required to form the final single cluster?\n",
    "\n",
    "\n",
    "2\n",
    "\n",
    "3\n",
    "\n",
    "4\n",
    "\n",
    "5    ✓ Correct"
   ]
  },
  {
   "cell_type": "code",
   "execution_count": null,
   "id": "0edeefcf",
   "metadata": {},
   "outputs": [],
   "source": []
  },
  {
   "cell_type": "markdown",
   "id": "b80d9d5e",
   "metadata": {},
   "source": [
    "## Hierarchical Clustering in Python"
   ]
  },
  {
   "cell_type": "markdown",
   "id": "819ef7ce",
   "metadata": {},
   "source": [
    "Hierarchical Clustering\n",
    "Consider the above dendrogram for agglomerative clustering and answer the following questions.\n",
    "\n",
    " \n",
    "\n",
    "Find number of clusters if threshold value is 10000. (refer fig)\n",
    "\n",
    "\n",
    "3\n",
    "\n",
    "4\n",
    "\n",
    "5    ✓ Correct"
   ]
  },
  {
   "cell_type": "code",
   "execution_count": null,
   "id": "0b29f1d3",
   "metadata": {},
   "outputs": [],
   "source": []
  },
  {
   "cell_type": "markdown",
   "id": "b7626e07",
   "metadata": {},
   "source": [
    "Hierarchical Clustering\n",
    "Find the threshold value if the no. of clusters to be formed is 4. (refer fig)\n",
    "\n",
    "\n",
    "5000\n",
    "\n",
    "10000\n",
    "\n",
    "15000   ✓ Correct"
   ]
  },
  {
   "cell_type": "code",
   "execution_count": null,
   "id": "0024f9a4",
   "metadata": {},
   "outputs": [],
   "source": []
  },
  {
   "cell_type": "markdown",
   "id": "9dc997cf",
   "metadata": {},
   "source": [
    "## Graded Questions - I"
   ]
  },
  {
   "cell_type": "markdown",
   "id": "19e3ffc7",
   "metadata": {},
   "source": [
    "Hierarchical Clustering\n",
    "What is the distance between points B and E?\n",
    "\n",
    "\n",
    "4.1   ✓ Correct"
   ]
  },
  {
   "cell_type": "code",
   "execution_count": null,
   "id": "dc882db7",
   "metadata": {},
   "outputs": [],
   "source": []
  },
  {
   "cell_type": "markdown",
   "id": "d7518777",
   "metadata": {},
   "source": [
    "Hierarchical Clustering\n",
    "Select the appropriate option which describes the Single Linkage method.\n",
    "\n",
    "\n",
    "In single linkage hierarchical clustering, the distance between two clusters is defined as the shortest distance between two points in each cluster.   ✓ Correct"
   ]
  },
  {
   "cell_type": "code",
   "execution_count": null,
   "id": "1022975a",
   "metadata": {},
   "outputs": [],
   "source": []
  },
  {
   "cell_type": "markdown",
   "id": "fadae8db",
   "metadata": {},
   "source": [
    "Hierarchical Clustering\n",
    "Based on the concept of agglomerative clustering, which two points will get clustered first?\n",
    "\n",
    "\n",
    "A-B\n",
    "\n",
    "B-C\n",
    "\n",
    "C-D    ✓ Correct"
   ]
  },
  {
   "cell_type": "code",
   "execution_count": null,
   "id": "cf49491d",
   "metadata": {},
   "outputs": [],
   "source": []
  },
  {
   "cell_type": "markdown",
   "id": "f03d38bf",
   "metadata": {},
   "source": [
    "## Graded Questions - II"
   ]
  },
  {
   "cell_type": "markdown",
   "id": "b536efd5",
   "metadata": {},
   "source": [
    "Hierarchical Clustering\n",
    "Make the dendrogram using the complete linkage.Cut the tree at k = 4. Which of the following is correct statement\n",
    "\n",
    "\n",
    "Virat Kohli and Sachin Tendulkar are in the same cluster\n",
    "\n",
    "\n",
    "CH Gayle and V Sehwag are in the same cluster\n",
    "\n",
    "\n",
    "SC Ganguly, R Dravid and SR Tendulkar are in the same cluster   ✓ Correct"
   ]
  },
  {
   "cell_type": "code",
   "execution_count": null,
   "id": "9d65bd46",
   "metadata": {},
   "outputs": [],
   "source": []
  },
  {
   "cell_type": "markdown",
   "id": "a9c72230",
   "metadata": {},
   "source": [
    "# Other Forms of Clustering(Optional)\n"
   ]
  },
  {
   "cell_type": "markdown",
   "id": "44737035",
   "metadata": {},
   "source": [
    "## Practice Question"
   ]
  },
  {
   "cell_type": "markdown",
   "id": "04c1fc6f",
   "metadata": {},
   "source": [
    "Missing Values\n",
    "Check if your final data set has any missing values in it? Please remember that this question is needed to be answered after selecting the required columns as stated above in the pointers i.e. 21.\n",
    "\n",
    " \n",
    "\n",
    "\n",
    "True\n",
    "\n",
    "\n",
    "False   ✓ Correct\n"
   ]
  },
  {
   "cell_type": "code",
   "execution_count": null,
   "id": "fabc1ff0",
   "metadata": {},
   "outputs": [],
   "source": []
  },
  {
   "cell_type": "markdown",
   "id": "c316c96d",
   "metadata": {},
   "source": [
    "Average Duration\n",
    "What is the average \"Duration\" before standardising the data?\n",
    "\n",
    "258.285  ✓ Correct\n"
   ]
  },
  {
   "cell_type": "code",
   "execution_count": null,
   "id": "f9727b68",
   "metadata": {},
   "outputs": [],
   "source": []
  },
  {
   "cell_type": "markdown",
   "id": "f27683a6",
   "metadata": {},
   "source": [
    "Optimal Number of Clusters\n",
    "Run the loop to check the cost against the number of clusters ranging from 1 to 8 and identify the suitable number of clusters.( More than one answer may be correct)\n",
    "\n",
    "4  ✓ Correct\n"
   ]
  },
  {
   "cell_type": "code",
   "execution_count": null,
   "id": "e61ec553",
   "metadata": {},
   "outputs": [],
   "source": []
  },
  {
   "cell_type": "markdown",
   "id": "d9414704",
   "metadata": {},
   "source": [
    "K-Prototype clustering\n",
    "Write a short note on DBSCAN Clustering.\n",
    "\n",
    "ans:\n",
    "    DBSCAN is a density-based clustering algorithm that divides a data set into subgroups of high-density regions. DBSCAN groups together point that are close to each other based on a distance measurement (usually Euclidean distance) and a minimum number of points. It also marks as outliers the points that are in low-density regions.\n",
    "\n",
    "DBSCAN algorithm requires 2 parameters i.e. Epsom or EPS and MinPoints or MinSamples."
   ]
  },
  {
   "cell_type": "code",
   "execution_count": 2,
   "id": "0148227a",
   "metadata": {},
   "outputs": [],
   "source": [
    "import jovian"
   ]
  },
  {
   "cell_type": "code",
   "execution_count": 4,
   "id": "ec2b652d",
   "metadata": {},
   "outputs": [
    {
     "data": {
      "application/javascript": [
       "window.require && require([\"base/js/namespace\"],function(Jupyter){Jupyter.notebook.save_checkpoint()})"
      ],
      "text/plain": [
       "<IPython.core.display.Javascript object>"
      ]
     },
     "metadata": {},
     "output_type": "display_data"
    },
    {
     "name": "stdout",
     "output_type": "stream",
     "text": [
      "[jovian] Updating notebook \"ashutoshgole18/module-4-unsupervised-learning-clustering\" on https://jovian.ai/\u001b[0m\n",
      "[jovian] Committed successfully! https://jovian.ai/ashutoshgole18/module-4-unsupervised-learning-clustering\u001b[0m\n"
     ]
    },
    {
     "data": {
      "text/plain": [
       "'https://jovian.ai/ashutoshgole18/module-4-unsupervised-learning-clustering'"
      ]
     },
     "execution_count": 4,
     "metadata": {},
     "output_type": "execute_result"
    }
   ],
   "source": [
    "jovian.commit()"
   ]
  }
 ],
 "metadata": {
  "kernelspec": {
   "display_name": "Python 3 (ipykernel)",
   "language": "python",
   "name": "python3"
  },
  "language_info": {
   "codemirror_mode": {
    "name": "ipython",
    "version": 3
   },
   "file_extension": ".py",
   "mimetype": "text/x-python",
   "name": "python",
   "nbconvert_exporter": "python",
   "pygments_lexer": "ipython3",
   "version": "3.9.7"
  }
 },
 "nbformat": 4,
 "nbformat_minor": 5
}
