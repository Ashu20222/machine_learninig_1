{
 "cells": [
  {
   "cell_type": "markdown",
   "id": "2b664c4c",
   "metadata": {},
   "source": [
    "# Introduction to Simple Linear Regression"
   ]
  },
  {
   "cell_type": "markdown",
   "id": "f1338939",
   "metadata": {},
   "source": [
    "## Introduction to Machine Learning"
   ]
  },
  {
   "cell_type": "markdown",
   "id": "ee85501f",
   "metadata": {},
   "source": [
    "Supervised and Unsupervised Learning\n",
    "Identify what type of problem this is:\n",
    "\n",
    "You have the past data on the performance of two cricket teams; based on different parameters and the match results, you have to predict which team will win.\n",
    "\n",
    "\n",
    "Supervised learning     ✓ Correct"
   ]
  },
  {
   "cell_type": "code",
   "execution_count": null,
   "id": "60d8ed92",
   "metadata": {},
   "outputs": [],
   "source": []
  },
  {
   "cell_type": "markdown",
   "id": "652563ce",
   "metadata": {},
   "source": [
    "Supervised and Unsupervised Learning\n",
    "Identify what type of problem this is:\n",
    "\n",
    "You feed a large collection of spam emails to the learning model to identify the different subgroups of these spam emails. No labels are presents in the data set.\n",
    "\n",
    "\n",
    "\n",
    "Unsupervised learning    ✓ Correct"
   ]
  },
  {
   "cell_type": "code",
   "execution_count": null,
   "id": "93a597d4",
   "metadata": {},
   "outputs": [],
   "source": []
  },
  {
   "cell_type": "markdown",
   "id": "442f128c",
   "metadata": {},
   "source": [
    "Supervised and Unsupervised Learning\n",
    "Identify what type of problem this is:\n",
    "\n",
    "Consider a large data set of the medical profiles of cancer patients with no labels. The model has to learn whether there are different groups of such patients for which separate treatments may be tailored.\n",
    "\n",
    "\n",
    "\n",
    "Unsupervised learning    ✓ Correct"
   ]
  },
  {
   "cell_type": "code",
   "execution_count": null,
   "id": "69b543f8",
   "metadata": {},
   "outputs": [],
   "source": []
  },
  {
   "cell_type": "markdown",
   "id": "5de8ab71",
   "metadata": {},
   "source": [
    "## Regression Line"
   ]
  },
  {
   "cell_type": "markdown",
   "id": "59f579f1",
   "metadata": {},
   "source": [
    "Intercept of a Straight Line\n",
    "What is the intercept of the given line? Use the graph given above to answer this question.\n",
    "\n",
    "\n",
    "0\n",
    "\n",
    "\n",
    "3    ✓ Correct"
   ]
  },
  {
   "cell_type": "code",
   "execution_count": null,
   "id": "a2328d73",
   "metadata": {},
   "outputs": [],
   "source": []
  },
  {
   "cell_type": "markdown",
   "id": "d967f55b",
   "metadata": {},
   "source": [
    "Slope of a Straight Line\n",
    "What is the slope of the given line? Use the graph given above to answer this question.\n",
    "\n",
    "\n",
    "1/2    ✓ Correct"
   ]
  },
  {
   "cell_type": "code",
   "execution_count": null,
   "id": "4599370e",
   "metadata": {},
   "outputs": [],
   "source": []
  },
  {
   "cell_type": "markdown",
   "id": "aaf7cb1d",
   "metadata": {},
   "source": [
    "Equation of a Straight Line\n",
    "What would be the equation of the given line?\n",
    "\n",
    "\n",
    "Y = X/2 + 3    ✓ Correct"
   ]
  },
  {
   "cell_type": "code",
   "execution_count": null,
   "id": "d23ef272",
   "metadata": {},
   "outputs": [],
   "source": []
  },
  {
   "cell_type": "markdown",
   "id": "48a04732",
   "metadata": {},
   "source": [
    "## Best Fit Line"
   ]
  },
  {
   "cell_type": "markdown",
   "id": "459714e1",
   "metadata": {},
   "source": [
    "Least Squares Regression Line\n",
    "The coefficients of the least squares regression line are determined by the ordinary least squares method, which essentially means minimising the sum of the squares of the:\n",
    "\n",
    "\n",
    "x-coordinates\n",
    "\n",
    "\n",
    "y-coordinates of the actual data\n",
    "\n",
    "\n",
    "y-coordinates of the predicted data\n",
    "\n",
    "\n",
    "(y-coordinates of the actual data) - (y-coordinates of the predicted data)     ✓ Correct"
   ]
  },
  {
   "cell_type": "code",
   "execution_count": null,
   "id": "0745b895",
   "metadata": {},
   "outputs": [],
   "source": []
  },
  {
   "cell_type": "markdown",
   "id": "c9a1e181",
   "metadata": {},
   "source": [
    "Best Fit Regression Line\n",
    "What is the main criterion used to determine the best-fitting regression line?\n",
    "\n",
    "\n",
    "The line that goes through the most number of points\n",
    "\n",
    "\n",
    "The line that has an equal number of points above and below it\n",
    "\n",
    "\n",
    "The line that minimises the sum of squares of distances of points from the regression line   ✓ Correct"
   ]
  },
  {
   "cell_type": "code",
   "execution_count": null,
   "id": "80f5e306",
   "metadata": {},
   "outputs": [],
   "source": []
  },
  {
   "cell_type": "markdown",
   "id": "fe961cd2",
   "metadata": {},
   "source": [
    "## Strength of Simple Linear Regression"
   ]
  },
  {
   "cell_type": "markdown",
   "id": "9a515923",
   "metadata": {},
   "source": [
    "RSS (Residual Sum of Squares)\n",
    "In the previous example of marketing spend (in lakh rupees) and sales amount (in crore rupees), let’s assume that you get the same data in different units: marketing spend (in lakh rupees) and sales amount (in dollars). Do you think there will be any change in the value of the RSS due to a change in the units (as compared to the value calculated in the Excel demonstration)?\n",
    "\n",
    "\n",
    "Yes, the value of the RSS will change because the units are changed.    ✓ Correct"
   ]
  },
  {
   "cell_type": "code",
   "execution_count": null,
   "id": "60c7e840",
   "metadata": {},
   "outputs": [],
   "source": []
  },
  {
   "cell_type": "markdown",
   "id": "2aacda7c",
   "metadata": {},
   "source": [
    "RSS (Residual Sum of Squares)\n",
    "Based on the property of RSS as mentioned in the previous question, do you think RSS is a good parameter to interpret how well the regression line represents the given data?\n",
    "\n",
    "(You will get an explanation for this soon from Prof Dinesh.)\n",
    "\n",
    "\n",
    "Yes\n",
    "\n",
    "20%\n",
    "\n",
    "No\n",
    "\n",
    "80%\n"
   ]
  },
  {
   "cell_type": "code",
   "execution_count": null,
   "id": "c8449ba8",
   "metadata": {},
   "outputs": [],
   "source": []
  },
  {
   "cell_type": "markdown",
   "id": "94c2a4af",
   "metadata": {},
   "source": [
    "Residual Sum of Squares (RSS)\n",
    "Find the value of the RSS for this regression line.\n",
    "\n",
    "\n",
    "0.25\n",
    "\n",
    "\n",
    "6.25   ✓ Correct"
   ]
  },
  {
   "cell_type": "code",
   "execution_count": null,
   "id": "cf03f759",
   "metadata": {},
   "outputs": [],
   "source": []
  },
  {
   "cell_type": "markdown",
   "id": "43535530",
   "metadata": {},
   "source": [
    "Total Sum of Squares (TSS)\n",
    "Find the value of the TSS for this regression line.\n",
    "\n",
    "\n",
    "11.5\n",
    "\n",
    "\n",
    "7.5\n",
    "\n",
    "\n",
    "0\n",
    "\n",
    "\n",
    "14   ✓ Correct"
   ]
  },
  {
   "cell_type": "code",
   "execution_count": null,
   "id": "926183a6",
   "metadata": {},
   "outputs": [],
   "source": []
  },
  {
   "cell_type": "markdown",
   "id": "3010c8bc",
   "metadata": {},
   "source": [
    "R²\n",
    "The RSS for this example comes out to be 6.25, and the TSS comes out to be 14.\n",
    "\n",
    "What would be the R² for this regression line?\n",
    "\n",
    "\n",
    "1 - (14/6.25)\n",
    "\n",
    "\n",
    "(1 - 14)/6.25\n",
    "\n",
    "\n",
    "1 - (6.25/14)    ✓ Correct"
   ]
  },
  {
   "cell_type": "code",
   "execution_count": null,
   "id": "5cfc96ab",
   "metadata": {},
   "outputs": [],
   "source": []
  },
  {
   "cell_type": "markdown",
   "id": "37712e66",
   "metadata": {},
   "source": [
    "## Interview Practice Questions"
   ]
  },
  {
   "cell_type": "markdown",
   "id": "15285bde",
   "metadata": {},
   "source": [
    "Correlation Coefficient\n",
    "The value of the correlation coefficient will always be:\n",
    "\n",
    "\n",
    "Greater than 0\n",
    "\n",
    "\n",
    "Greater than 1\n",
    "\n",
    "\n",
    "Between 0 and 1\n",
    "\n",
    "\n",
    "Between -1 and 1    ✓ Correct"
   ]
  },
  {
   "cell_type": "code",
   "execution_count": null,
   "id": "f4fbcaa6",
   "metadata": {},
   "outputs": [],
   "source": []
  },
  {
   "cell_type": "markdown",
   "id": "3499361e",
   "metadata": {},
   "source": [
    "R-squared\n",
    "The strength of a linear regression line is determined by the value of the R-squared. If this value is found to be 0, what does it imply?\n",
    "\n",
    "\n",
    "All the variance in the data is being explained by the fitted line.\n",
    "\n",
    "\n",
    "Most of the variance in the data is being explained by the fitted line.\n",
    "\n",
    "\n",
    "No variance in the data is being explained by the fitted line.    ✓ Correct"
   ]
  },
  {
   "cell_type": "code",
   "execution_count": null,
   "id": "811f72f5",
   "metadata": {},
   "outputs": [],
   "source": []
  },
  {
   "cell_type": "markdown",
   "id": "445f1550",
   "metadata": {},
   "source": [
    "Correlation\n",
    "The following two straight lines were fitted for two sets of datapoints:\n",
    "\n",
    "\n",
    "\n",
    "What will the value of the correlation coefficients be for each of the two cases?\n",
    "\n",
    "\n",
    "0.5 and 0.5\n",
    "\n",
    "\n",
    "0.5 and 1\n",
    "\n",
    "\n",
    "1 and 0.5\n",
    "\n",
    "\n",
    "1 and 1    ✓ Correct"
   ]
  },
  {
   "cell_type": "code",
   "execution_count": null,
   "id": "5bf7ba14",
   "metadata": {},
   "outputs": [],
   "source": []
  },
  {
   "cell_type": "markdown",
   "id": "1b68b516",
   "metadata": {},
   "source": [
    "Correlation\n",
    "Suppose that you run a linear regression on the data, where you have X as the independent variable and y as the target variable. You find that the correlation between y and X is -0.92. What can you say in this situation?\n",
    "\n",
    "\n",
    "X and y are strongly related.   ✓ Correct"
   ]
  },
  {
   "cell_type": "code",
   "execution_count": null,
   "id": "808dbcf8",
   "metadata": {},
   "outputs": [],
   "source": []
  },
  {
   "cell_type": "markdown",
   "id": "c782f9b7",
   "metadata": {},
   "source": [
    "## Graded Questions"
   ]
  },
  {
   "cell_type": "markdown",
   "id": "16e3921f",
   "metadata": {},
   "source": [
    "Machine Learning Models\n",
    "A Singapore-based startup Healin launched an app called JustShakeIt, which enables a user to send an emergency alert to emergency contacts and/or caregivers simply by shaking the phone with one hand. The program uses a machine learning algorithm to distinguish between actual emergency shakes and everyday jostling, using data with labels.\n",
    "\n",
    "What kind of problem is this?\n",
    "\n",
    "\n",
    "Supervised learning-Regression\n",
    "\n",
    "\n",
    "Supervised learning-Classification    ✓ Correct"
   ]
  },
  {
   "cell_type": "code",
   "execution_count": null,
   "id": "c91d5ae3",
   "metadata": {},
   "outputs": [],
   "source": []
  },
  {
   "cell_type": "markdown",
   "id": "ef1fd6d7",
   "metadata": {},
   "source": [
    "Regression in Machine Learning\n",
    "Select all the tasks where linear regression algorithm can be applied.\n",
    "\n",
    "(More than 1 option may be correct.)\n",
    "\n",
    "\n",
    "You have a dataset of BMI (body mass index) and the fat percentage of the customers of a fitness centre. Now, the fitness centre wants to predict the fat percentage of a new customer, given his BMI.    ✓ Correct\n",
    "\n",
    "You have collected data from a house rental website like commonfloor.com. The data has the rental prices of apartments and customer ratings as HIGH or LOW. You want to predict the customer rating, given the rental price of a new house.\n",
    "\n",
    "\n",
    "You want to predict the sales of a retail store based on its size, given the dataset of sales of retail stores and their sizes.    ✓ Correct"
   ]
  },
  {
   "cell_type": "code",
   "execution_count": null,
   "id": "63c0c5b2",
   "metadata": {},
   "outputs": [],
   "source": []
  },
  {
   "cell_type": "markdown",
   "id": "3e71a75c",
   "metadata": {},
   "source": [
    "Coefficients of Regression Equation\n",
    "The independent variable X from a linear regression is measured in miles. If you convert it to kilometres (keeping the unit of the dependent variable Y the same), how will the slope coefficient change? (Note: 1 mile = 1.6 km)\n",
    "\n",
    "\n",
    "It will get multiplied by 1.6.\n",
    "\n",
    "\n",
    "It will get divided by 1.6.    ✓ Correct"
   ]
  },
  {
   "cell_type": "code",
   "execution_count": null,
   "id": "c7f79ff3",
   "metadata": {},
   "outputs": [],
   "source": []
  },
  {
   "cell_type": "markdown",
   "id": "179535b4",
   "metadata": {},
   "source": [
    "Strength of the Regression Model\n",
    "You want to find the linear relation between the number of X-ray machines purchased at one time and the cost per machine. The following data has been obtained on the same:\n",
    "\n",
    "X: Number of machines purchased\t1\t3\t6\t10\t15\n",
    "Y: Cost per widget (in thousand rupees)\t89\t85\t79\t73\t64\n",
    "Suppose the R² between X and Y is 0.87. Which of the following conclusions can you draw from this?\n",
    "\n",
    "\n",
    "The linear relation between X and Y is weak, and their correlation will be positive.\n",
    "\n",
    "\n",
    "The linear relation between X and Y is weak, and their correlation will be negative.\n",
    "\n",
    "\n",
    "The linear relation between X and Y is strong, and their correlation will be positive.\n",
    "\n",
    "\n",
    "The linear relation between X and Y is strong, and their correlation will be negative.     ✓ Correct"
   ]
  },
  {
   "cell_type": "code",
   "execution_count": null,
   "id": "985f5b78",
   "metadata": {},
   "outputs": [],
   "source": []
  },
  {
   "cell_type": "markdown",
   "id": "b303e4f2",
   "metadata": {},
   "source": [
    "# Simple Linear Regression in Python"
   ]
  },
  {
   "cell_type": "markdown",
   "id": "cefc5df9",
   "metadata": {},
   "source": [
    "Assumptions of Simple Linear Regression\n",
    "What will be the effect of the error terms not being homoscedastic in nature?\n",
    "\n",
    "\n",
    "You will not be able to fit a straight line through the data.\n",
    "\n",
    "\n",
    "The error terms will not be normally distributed.\n",
    " \n",
    "\n",
    "\n",
    "The inferences made on the model would be unreliable.    ✓ Correct"
   ]
  },
  {
   "cell_type": "code",
   "execution_count": null,
   "id": "5cf36abb",
   "metadata": {},
   "outputs": [],
   "source": []
  },
  {
   "cell_type": "markdown",
   "id": "473343c6",
   "metadata": {},
   "source": [
    "Assumptions of Simple Linear Regression\n",
    "Which of the assumptions of linear regression is the following image shown to be violating?\n",
    "\n",
    "The linear relationship between X and y\n",
    "\n",
    "\n",
    "Error terms being independent of each other\n",
    "\n",
    "\n",
    "Error terms being normally distributed\n",
    "\n",
    "\n",
    "Error terms having constant variance    ✓ Correct"
   ]
  },
  {
   "cell_type": "code",
   "execution_count": null,
   "id": "e97a655b",
   "metadata": {},
   "outputs": [],
   "source": []
  },
  {
   "cell_type": "markdown",
   "id": "160c063f",
   "metadata": {},
   "source": [
    "Assumptions of Simple Linear Regression\n",
    "You saw the following image in the lecture. What all assumptions on the error terms is this image referring to?\n",
    "\n",
    "\n",
    "\n",
    "\n",
    "The error terms are normally distributed.\n",
    "\n",
    "✓ Correct\n",
    "\n",
    "\n",
    "The mean in the distribution of the error terms is zero.\n",
    "\n",
    "✓ Correct\n",
    "\n",
    "\n",
    "The error terms have constant variance.\n",
    "\n",
    "✓ Correct"
   ]
  },
  {
   "cell_type": "code",
   "execution_count": null,
   "id": "7eb6916e",
   "metadata": {},
   "outputs": [],
   "source": []
  },
  {
   "cell_type": "markdown",
   "id": "863ed33b",
   "metadata": {},
   "source": [
    "## Hypothesis Testing in Linear Regression"
   ]
  },
  {
   "cell_type": "markdown",
   "id": "27c09ee5",
   "metadata": {},
   "source": [
    "Hypothesis Test\n",
    "What does it mean if you fail to reject the Null hypothesis in the case of simple linear regression?\n",
    "\n",
    "\n",
    "β\n",
    "1\n",
    " and thus, the independent variable it is associated with is significant in the prediction of the dependent variable. \n",
    "\n",
    "\n",
    "β\n",
    "1\n",
    " and thus, the independent variable it is associated with is insignificant in the prediction of the dependent variable.    ✓ Correct"
   ]
  },
  {
   "cell_type": "code",
   "execution_count": null,
   "id": "fb3331f6",
   "metadata": {},
   "outputs": [],
   "source": []
  },
  {
   "cell_type": "markdown",
   "id": "803d1109",
   "metadata": {},
   "source": [
    "P-value\n",
    "Which of the following is used to calculate the p-value for a particular beta coefficient?\n",
    "\n",
    "\n",
    "The standard error of the beta coefficient\n",
    "\n",
    "\n",
    "The t-statistic of the beta coefficient    ✓ Correct"
   ]
  },
  {
   "cell_type": "code",
   "execution_count": null,
   "id": "478eef44",
   "metadata": {},
   "outputs": [],
   "source": []
  },
  {
   "cell_type": "markdown",
   "id": "4b9f849d",
   "metadata": {},
   "source": [
    "Distribution of the Error Terms\n",
    "If the sample size is small, i.e. less than 30, which of the following distribution is used to describe the error terms?\n",
    "\n",
    "\n",
    "Normal distribution\n",
    "\n",
    "\n",
    "Uniform distribution\n",
    "\n",
    "\n",
    "T-distribution    ✓ Correct"
   ]
  },
  {
   "cell_type": "code",
   "execution_count": null,
   "id": "e6cc528c",
   "metadata": {},
   "outputs": [],
   "source": []
  },
  {
   "cell_type": "markdown",
   "id": "40f72c69",
   "metadata": {},
   "source": [
    "T-score\n",
    "Suppose that for a linear model, you got \n",
    "β\n",
    "1\n",
    " as 0.5. Also, the standard error of \n",
    "β\n",
    "1\n",
    " was found out to be 0.02. What will be the value of t-score for \n",
    "β\n",
    "1\n",
    "?\n",
    "\n",
    "\n",
    "2.5\n",
    "\n",
    "\n",
    "25    ✓ Correct"
   ]
  },
  {
   "cell_type": "code",
   "execution_count": null,
   "id": "91f14b40",
   "metadata": {},
   "outputs": [],
   "source": []
  },
  {
   "cell_type": "markdown",
   "id": "cac0169e",
   "metadata": {},
   "source": [
    "Significance of Beta\n",
    "From the t-score you got in the previous question, what can you say about the significance of \n",
    "β\n",
    "1\n",
    "?\n",
    "\n",
    "\n",
    "β\n",
    "1\n",
    " is significant.   ✓ Correct"
   ]
  },
  {
   "cell_type": "code",
   "execution_count": null,
   "id": "204759cd",
   "metadata": {},
   "outputs": [],
   "source": []
  },
  {
   "cell_type": "markdown",
   "id": "aa9c3344",
   "metadata": {},
   "source": [
    "## Building a Linear Model"
   ]
  },
  {
   "cell_type": "markdown",
   "id": "c8bb4d9f",
   "metadata": {},
   "source": [
    "Viewing The Coefficients\n",
    "Which of the following commands can be used to view \n",
    "β\n",
    "0\n",
    " and \n",
    "β\n",
    "1\n",
    " once you have fitted the line using statsmodels? The name of your linear regression object is lr. (More than one option(s) may be correct.)\n",
    "\n",
    "\n",
    "lr.OLS()\n",
    "\n",
    "\n",
    "lr.params   ✓ Correct\n",
    "\n",
    "lr .summary()   ✓ Correct"
   ]
  },
  {
   "cell_type": "code",
   "execution_count": null,
   "id": "78a1250e",
   "metadata": {},
   "outputs": [],
   "source": []
  },
  {
   "cell_type": "markdown",
   "id": "8520cbff",
   "metadata": {},
   "source": [
    "Summary Statistics\n",
    "Suppose you built a linear regression model in which the target variable is 'Scaled Pressure' which is being predicted with the help of the feature variable 'Frequency', and you got the following summary statistics of the model that you built.\n",
    "\n",
    "\n",
    "\n",
    "Looking at the summary statistics given above, what can be said about the significance of the overall model fit?\n",
    "\n",
    "\n",
    "The overall model fit is significant      ✓ Correct"
   ]
  },
  {
   "cell_type": "code",
   "execution_count": null,
   "id": "593abc8f",
   "metadata": {},
   "outputs": [],
   "source": []
  },
  {
   "cell_type": "markdown",
   "id": "12de00e0",
   "metadata": {},
   "source": [
    "Summary Statistics\n",
    "Let's take a look at the summary statistics you saw in the last question again.\n",
    " \n",
    "\n",
    "What can you say about the significance of the coefficient the variable 'Frequency'?\n",
    "\n",
    " \n",
    "\n",
    "\n",
    "The p-value of the coefficient for frequency is low and hence, it is insignificant.\n",
    "\n",
    "\n",
    "The p-value of the coefficient for frequency is low and hence, it is significant.    ✓ Correct"
   ]
  },
  {
   "cell_type": "code",
   "execution_count": null,
   "id": "23c1636f",
   "metadata": {},
   "outputs": [],
   "source": []
  },
  {
   "cell_type": "markdown",
   "id": "e7f59dde",
   "metadata": {},
   "source": [
    "Summary Statistics\n",
    "Finally, looking at the following summary statistics, what can you say about the extent of fit, i.e. the variance explanatory power of the model?\n",
    "\n",
    "The R-squared value is high and hence, the model doesn't explain much of the variance.\n",
    "\n",
    "\n",
    "The R-squared value is high and hence, the model explains a lot of the variance.\n",
    "\n",
    "\n",
    "The R-squared value is low and hence, the model doesn't explain much of the variance.    ✓ Correct"
   ]
  },
  {
   "cell_type": "code",
   "execution_count": null,
   "id": "da5ea845",
   "metadata": {},
   "outputs": [],
   "source": []
  },
  {
   "cell_type": "markdown",
   "id": "0770f320",
   "metadata": {},
   "source": [
    "## Residual Analysis and Predictions"
   ]
  },
  {
   "cell_type": "markdown",
   "id": "97b07b6c",
   "metadata": {},
   "source": [
    "Residual Analysis\n",
    "Plotting a histogram of the residuals helps you determine: (More than one option may be correct.).\n",
    "\n",
    "\n",
    "If the error terms are normally distributed    ✓ Correct\n",
    "\n",
    "If the error terms are centred around zero   ✓ Correct"
   ]
  },
  {
   "cell_type": "code",
   "execution_count": null,
   "id": "005e211a",
   "metadata": {},
   "outputs": [],
   "source": []
  },
  {
   "cell_type": "markdown",
   "id": "06b381e5",
   "metadata": {},
   "source": [
    "Model Comparison Using RMSE\n",
    "You fit two linear regression models for the same data, where the first one gives an RMSE value of 3.78, and the second returns a value of 6.33. Which of these is a better model?\n",
    "\n",
    "\n",
    "The first one   ✓ Correct"
   ]
  },
  {
   "cell_type": "code",
   "execution_count": null,
   "id": "4b7cee62",
   "metadata": {},
   "outputs": [],
   "source": []
  },
  {
   "cell_type": "markdown",
   "id": "ab94e634",
   "metadata": {},
   "source": [
    "Model Comparison Using R-squared\n",
    "For the two linear regression models mentioned in the last question, the R-squared values in the train and test sets are as follows:\n",
    "\n",
    "Model\tR-squared (on train set)\tR-squared (on test set)\n",
    "First Model\t0.85\t0.61\n",
    "Second Model\t0.74\t0.72\n",
    " \n",
    "\n",
    "Which of these do you think is a better model?\n",
    "\n",
    "\n",
    "The first model\n",
    "\n",
    "\n",
    "The second model   ✓ Correct"
   ]
  },
  {
   "cell_type": "code",
   "execution_count": null,
   "id": "563a09ad",
   "metadata": {},
   "outputs": [],
   "source": []
  },
  {
   "cell_type": "markdown",
   "id": "d526829b",
   "metadata": {},
   "source": [
    "## Linear Regression using SKLearn"
   ]
  },
  {
   "cell_type": "markdown",
   "id": "e486b0d7",
   "metadata": {},
   "source": [
    "Parameters in SKLearn\n",
    "Which of these commands will give you the value of  slope for the fitted model?\n",
    "\n",
    "\n",
    "lm.fit\n",
    "\n",
    "\n",
    "lm.intercept_\n",
    "\n",
    "\n",
    "lm.coef_    ✓ Correct"
   ]
  },
  {
   "cell_type": "code",
   "execution_count": null,
   "id": "1a3e5308",
   "metadata": {},
   "outputs": [],
   "source": []
  },
  {
   "cell_type": "markdown",
   "id": "fb4634e9",
   "metadata": {},
   "source": [
    "## Interview Practice Questions"
   ]
  },
  {
   "cell_type": "markdown",
   "id": "55eb8337",
   "metadata": {},
   "source": [
    "Best Fit Line\n",
    "Which method is used to find the best fit line for linear regression?\n",
    "\n",
    "\n",
    "Maximum Likelihood\n",
    "\n",
    "\n",
    "Least Square Error    ✓ Correct"
   ]
  },
  {
   "cell_type": "code",
   "execution_count": null,
   "id": "90be1ce3",
   "metadata": {},
   "outputs": [],
   "source": []
  },
  {
   "cell_type": "markdown",
   "id": "196703f8",
   "metadata": {},
   "source": [
    "Hypothesis Test\n",
    "In order to reject the Null Hypothesis used in linear regression, the p-value of \n",
    "β\n",
    "i\n",
    " should be?\n",
    "\n",
    "\n",
    "Greater than 0.05\n",
    "\n",
    "\n",
    "Less than 0.05   ✓ Correct"
   ]
  },
  {
   "cell_type": "code",
   "execution_count": null,
   "id": "c8949b38",
   "metadata": {},
   "outputs": [],
   "source": []
  },
  {
   "cell_type": "markdown",
   "id": "68f8e592",
   "metadata": {},
   "source": [
    "Residual Analysis\n",
    "Which of the following is true regarding residual in linear regression?\n",
    "\n",
    "\n",
    "The sum of residuals should be equal to zero   ✓ Correct"
   ]
  },
  {
   "cell_type": "code",
   "execution_count": null,
   "id": "d67bb7ec",
   "metadata": {},
   "outputs": [],
   "source": []
  },
  {
   "cell_type": "markdown",
   "id": "616aa5b6",
   "metadata": {},
   "source": [
    "Significance of Fit\n",
    "Which of the following parameters is used to determine the overall significance of a model fit?\n",
    "\n",
    "\n",
    "p-value of the coefficients\n",
    "\n",
    "\n",
    "R-squared value\n",
    "\n",
    "\n",
    "F-statistic   ✓ Correct"
   ]
  },
  {
   "cell_type": "code",
   "execution_count": null,
   "id": "44bad1ad",
   "metadata": {},
   "outputs": [],
   "source": []
  },
  {
   "cell_type": "markdown",
   "id": "755d26ac",
   "metadata": {},
   "source": [
    "Heteroscedasticity\n",
    "What does it imply if your linear regression model is said to be heteroscedastic?\n",
    "\n",
    "\n",
    "The variance in the data is constant\n",
    "\n",
    "\n",
    "The variance in the data is not constant     ✓ Correct"
   ]
  },
  {
   "cell_type": "code",
   "execution_count": null,
   "id": "0646f1f3",
   "metadata": {},
   "outputs": [],
   "source": []
  },
  {
   "cell_type": "markdown",
   "id": "9e92b64d",
   "metadata": {},
   "source": [
    "t-value\n",
    "Which if the following expression gives the correct relationship between a beta coefficient and its t-value?\n",
    "\n",
    "\n",
    "t=βi/SE(βi)   ✓ Correct"
   ]
  },
  {
   "cell_type": "code",
   "execution_count": null,
   "id": "83b452f4",
   "metadata": {},
   "outputs": [],
   "source": []
  },
  {
   "cell_type": "markdown",
   "id": "a90e6e6a",
   "metadata": {},
   "source": [
    "Linear Regression in Python\n",
    "Which of the following packages can be used to build a linear regression model in Python? More than one option may be correct.\n",
    "\n",
    "\n",
    "math\n",
    "\n",
    "\n",
    "statsmodels.api   ✓ Correct\n",
    "\n",
    "SKLearn   ✓ Correct"
   ]
  },
  {
   "cell_type": "code",
   "execution_count": null,
   "id": "56baf70a",
   "metadata": {},
   "outputs": [],
   "source": []
  },
  {
   "cell_type": "markdown",
   "id": "d618851e",
   "metadata": {},
   "source": [
    "Generic Steps in Building a Linear Regression Model\n",
    "Which of the following step(s) are required to fit a straight line through a set of data points using statsmodels.api? More than one option may be correct.\n",
    "\n",
    "\n",
    "sm.add_constant(X)   ✓ Correct\n",
    "\n",
    "\n",
    "sm.OLS(y, X).fit()    ✓ Correct"
   ]
  },
  {
   "cell_type": "code",
   "execution_count": null,
   "id": "de20a720",
   "metadata": {},
   "outputs": [],
   "source": []
  },
  {
   "cell_type": "markdown",
   "id": "77d3c41b",
   "metadata": {},
   "source": [
    "## Graded Questions"
   ]
  },
  {
   "cell_type": "markdown",
   "id": "fe7d080c",
   "metadata": {},
   "source": [
    "Strength of Relationship\n",
    "Which of the following is indicative of a strong relationship between X and y?\n",
    "\n",
    "\n",
    "The value of \n",
    "β\n",
    "1\n",
    " as obtained after fitting the model is 0.95\n",
    "\n",
    "\n",
    "The correlation coefficient between X and y is 0.95    ✓ Correct"
   ]
  },
  {
   "cell_type": "code",
   "execution_count": null,
   "id": "63214270",
   "metadata": {},
   "outputs": [],
   "source": []
  },
  {
   "cell_type": "markdown",
   "id": "7fc1ca4e",
   "metadata": {},
   "source": [
    "Hypothesis Testing for Betas\n",
    "In order to determine whether the coefficient in a simple linear regression model is significant or not, which Null Hypothesis do we propose?\n",
    "\n",
    "\n",
    "β0=0\n",
    "\n",
    "\n",
    "β\n",
    "0\n",
    "≠\n",
    "0\n",
    "\n",
    "\n",
    "β1=0      ✓ Correct"
   ]
  },
  {
   "cell_type": "code",
   "execution_count": null,
   "id": "5b1fd0d1",
   "metadata": {},
   "outputs": [],
   "source": []
  },
  {
   "cell_type": "markdown",
   "id": "3e646cf6",
   "metadata": {},
   "source": [
    "Overall Model Fit\n",
    "Which metric is used to determine the significance of the overall model fit?\n",
    "\n",
    "\n",
    "T-statistic\n",
    "\n",
    "\n",
    "R-squared\n",
    "\n",
    "\n",
    "F-statistic    ✓ Correct"
   ]
  },
  {
   "cell_type": "code",
   "execution_count": null,
   "id": "6b3dc386",
   "metadata": {},
   "outputs": [],
   "source": []
  },
  {
   "cell_type": "markdown",
   "id": "d6d973bb",
   "metadata": {},
   "source": [
    "Fitting a Line Using statsmodels\n",
    "Why do you add a constant to the train set using the sm.add_constant() command, when you’re fitting a line using statsmodels?\n",
    "\n",
    "\n",
    "The library requires the X_train to be a 2D dataset.\n",
    "\n",
    "\n",
    "statsmodels fits a line passing through the origin by default.   ✓ Correct"
   ]
  },
  {
   "cell_type": "code",
   "execution_count": null,
   "id": "8ce02ec6",
   "metadata": {},
   "outputs": [],
   "source": []
  },
  {
   "cell_type": "markdown",
   "id": "255a5ea4",
   "metadata": {},
   "source": [
    "Correlation\n",
    "The correlation coefficient between the age of a person and their IQ test score is found to be -1.0087.\n",
    "What can you conclude from this?\n",
    "\n",
    "\n",
    "Age is a good predictor of IQ.\n",
    "\n",
    "\n",
    "Age is not a good predictor of IQ.\n",
    "\n",
    "\n",
    "None of the above    ✓ Correct"
   ]
  },
  {
   "cell_type": "code",
   "execution_count": null,
   "id": "8b517197",
   "metadata": {},
   "outputs": [],
   "source": []
  },
  {
   "cell_type": "markdown",
   "id": "86f9f050",
   "metadata": {},
   "source": [
    "# Gradient Descent-Linear Regression"
   ]
  },
  {
   "cell_type": "markdown",
   "id": "1a8bc561",
   "metadata": {},
   "source": [
    "## Practice Question"
   ]
  },
  {
   "cell_type": "markdown",
   "id": "6cd8b91a",
   "metadata": {},
   "source": [
    "Gradient Descent\n",
    "What is the cost of the 0th iteration?\n",
    "\n",
    "\n",
    "0.55\n",
    "\n",
    "\n",
    "0.48    ✓ Correct"
   ]
  },
  {
   "cell_type": "code",
   "execution_count": null,
   "id": "501df4eb",
   "metadata": {},
   "outputs": [],
   "source": []
  },
  {
   "cell_type": "markdown",
   "id": "1406c14e",
   "metadata": {},
   "source": [
    "Gradient Descent\n",
    "What is the cost of the 999th iteration?\n",
    "\n",
    "\n",
    "0.6\n",
    "\n",
    "\n",
    "0.05    ✓ Correct"
   ]
  },
  {
   "cell_type": "code",
   "execution_count": null,
   "id": "7a7d5abb",
   "metadata": {},
   "outputs": [],
   "source": []
  },
  {
   "cell_type": "markdown",
   "id": "082d5974",
   "metadata": {},
   "source": [
    "Gradient Descent\n",
    "After plotting the graph between the cost and the number of iterations, at what point does the cost get flattened?\n",
    "\n",
    "\n",
    ">200 iterations    ✓ Correct"
   ]
  },
  {
   "cell_type": "code",
   "execution_count": null,
   "id": "ed11bb2c",
   "metadata": {},
   "outputs": [],
   "source": []
  },
  {
   "cell_type": "markdown",
   "id": "80161d46",
   "metadata": {},
   "source": [
    "Gradient Descent\n",
    "Is there any difference between the coefficients obtained from the gradient descent from scratch and the coefficients obtained by running linear regression through sklearn?\n",
    "\n",
    "\n",
    "Yes    ✓ Correct\n"
   ]
  },
  {
   "cell_type": "code",
   "execution_count": null,
   "id": "7138ed1d",
   "metadata": {},
   "outputs": [],
   "source": []
  },
  {
   "cell_type": "markdown",
   "id": "5463633a",
   "metadata": {},
   "source": [
    "# Multiple Linear Regression"
   ]
  },
  {
   "cell_type": "markdown",
   "id": "63eb7cfe",
   "metadata": {},
   "source": [
    "## Motivation - When One Variable Is Not Enough"
   ]
  },
  {
   "cell_type": "markdown",
   "id": "f6b33ff5",
   "metadata": {},
   "source": [
    "R-Squared\n",
    "In the simple linear regression model between TV and sales, the accuracy, or the 'model fit', as measured by the R-squared was about 0.81. But when you brought in the radio and the newspaper variables along with TV, the R-squared increased to 0.91 and 0.83, respectively. Do you think the R-squared value will always increase (or at least remain the same) when you add more variables?\n",
    "\n",
    "\n",
    "Yes   ✓ Correct"
   ]
  },
  {
   "cell_type": "code",
   "execution_count": null,
   "id": "78e650e8",
   "metadata": {},
   "outputs": [],
   "source": []
  },
  {
   "cell_type": "markdown",
   "id": "bd027d26",
   "metadata": {},
   "source": [
    "Assumptions of Multiple Linear Regression\n",
    "Which of the following assumptions changes for multiple linear regression?\n",
    "\n",
    "\n",
    "The error terms should be normally distributed.\n",
    "\n",
    "\n",
    "The error terms are centred on zero.\n",
    "\n",
    "\n",
    "The error terms have constant variance.\n",
    "\n",
    "\n",
    "None of the above.    ✓ Correct"
   ]
  },
  {
   "cell_type": "code",
   "execution_count": null,
   "id": "22026f5c",
   "metadata": {},
   "outputs": [],
   "source": []
  },
  {
   "cell_type": "markdown",
   "id": "8f077491",
   "metadata": {},
   "source": [
    "## Moving from SLR to MLR - New Considerations"
   ]
  },
  {
   "cell_type": "markdown",
   "id": "2fcd0b51",
   "metadata": {},
   "source": [
    "Overfitting\n",
    "Which of these two models would be a better fit to the data?\n",
    "\n",
    "The first one    ✓ Correct"
   ]
  },
  {
   "cell_type": "code",
   "execution_count": null,
   "id": "2b75000e",
   "metadata": {},
   "outputs": [],
   "source": []
  },
  {
   "cell_type": "markdown",
   "id": "9c10476a",
   "metadata": {},
   "source": [
    "## Multicollinearity"
   ]
  },
  {
   "cell_type": "markdown",
   "id": "78690a81",
   "metadata": {},
   "source": [
    "Effects of Multicollinearity\n",
    "Which of the following is not affected by multicollinearity, i.e., if you add more variables that turn out to be dependent on the variables already included?\n",
    "\n",
    "\n",
    "p-values\n",
    "\n",
    "\n",
    "Coefficients\n",
    "\n",
    "\n",
    "The R-squared value    ✓ Correct"
   ]
  },
  {
   "cell_type": "code",
   "execution_count": null,
   "id": "bfb7b9d0",
   "metadata": {},
   "outputs": [],
   "source": []
  },
  {
   "cell_type": "markdown",
   "id": "2ed5831a",
   "metadata": {},
   "source": [
    "VIF\n",
    "VIF is a measure of ___.\n",
    "\n",
    "\n",
    "How well a predictor variable is correlated with all the other variables, including the target variable\n",
    "\n",
    "\n",
    "How well a predictor variable is correlated with all the other variables, excluding the target variable    ✓ Correct"
   ]
  },
  {
   "cell_type": "code",
   "execution_count": null,
   "id": "fd2e5877",
   "metadata": {},
   "outputs": [],
   "source": []
  },
  {
   "cell_type": "markdown",
   "id": "3bf222c7",
   "metadata": {},
   "source": [
    "Calculating VIF\n",
    "When calculating the VIF for one variable using a group of variables, the \n",
    "R\n",
    "2\n",
    " came out to be 0.75. What will the approximate VIF for this variable be?\n",
    "\n",
    "\n",
    "1\n",
    "\n",
    "\n",
    "2\n",
    "\n",
    "\n",
    "4    ✓ Correct"
   ]
  },
  {
   "cell_type": "code",
   "execution_count": null,
   "id": "c1498fcc",
   "metadata": {},
   "outputs": [],
   "source": []
  },
  {
   "cell_type": "markdown",
   "id": "115632b2",
   "metadata": {},
   "source": [
    "Analysing the VIF Value\n",
    "Is the VIF obtained in the previous case a good VIF value?\n",
    "\n",
    "\n",
    "Yes.   ✓ Correct"
   ]
  },
  {
   "cell_type": "code",
   "execution_count": null,
   "id": "9f95a571",
   "metadata": {},
   "outputs": [],
   "source": []
  },
  {
   "cell_type": "markdown",
   "id": "fad4ebb7",
   "metadata": {},
   "source": [
    "## Dealing with Categorical Variables"
   ]
  },
  {
   "cell_type": "markdown",
   "id": "4beb8843",
   "metadata": {},
   "source": [
    "Number of Dummy Variables\n",
    "The creation of dummy variables to convert a categorical variable into a numeric variable is an important step in data preparation. Consider a case where a categorical variable is a factor with 22 levels. How many dummy variables will be required to represent this categorical variable while developing the linear regression model?\n",
    "\n",
    "\n",
    "20\n",
    "\n",
    "\n",
    "21   ✓ Correct"
   ]
  },
  {
   "cell_type": "code",
   "execution_count": null,
   "id": "3df672b6",
   "metadata": {},
   "outputs": [],
   "source": []
  },
  {
   "cell_type": "markdown",
   "id": "5193739b",
   "metadata": {},
   "source": [
    "## Model Assessment and Comparison"
   ]
  },
  {
   "cell_type": "markdown",
   "id": "a05d99d9",
   "metadata": {},
   "source": [
    "Calculating the Adjusted R-Squared\n",
    "When a model was built from a data set with 101 samples and 10 predictor variables, the R-squared value was found to be 0.7. What will the value of the adjusted R-squared be for the same model?\n",
    "\n",
    "\n",
    "0.46\n",
    "\n",
    "\n",
    "0.50\n",
    "\n",
    "\n",
    "0.67     ✓ Correct"
   ]
  },
  {
   "cell_type": "code",
   "execution_count": null,
   "id": "f4480ff6",
   "metadata": {},
   "outputs": [],
   "source": []
  },
  {
   "cell_type": "markdown",
   "id": "982f6934",
   "metadata": {},
   "source": [
    "## Feature Selection"
   ]
  },
  {
   "cell_type": "markdown",
   "id": "722056af",
   "metadata": {},
   "source": [
    "Model Assessment\n",
    "After performing inferences on a linear model built with several variables, you concluded that the variable ‘r’ was insignificant. This meant that the variable ‘r’ ___.\n",
    "\n",
    "\n",
    "Had a high p-value   ✓ Correct"
   ]
  },
  {
   "cell_type": "code",
   "execution_count": null,
   "id": "1aba5260",
   "metadata": {},
   "outputs": [],
   "source": []
  },
  {
   "cell_type": "markdown",
   "id": "3afc9177",
   "metadata": {},
   "source": [
    "Recursive Feature Elimination\n",
    "Suppose you have to build five multiple linear regression models for five different data sets. You are planning to use about 10 variables for each of these models. The number of potential variables in each of these data sets is 15, 30, 65, 10 and 100. In which of these cases would you definitely need to use RFE?\n",
    "\n",
    "\n",
    "1st and 4th cases\n",
    "\n",
    "\n",
    "1st, 2nd and 4th cases\n",
    "\n",
    "\n",
    "3rd and 5th cases\n",
    "\n",
    "\n",
    "2nd, 3rd and 5th cases     ✓ Correct"
   ]
  },
  {
   "cell_type": "code",
   "execution_count": null,
   "id": "0b8686a5",
   "metadata": {},
   "outputs": [],
   "source": []
  },
  {
   "cell_type": "markdown",
   "id": "1a63bfc3",
   "metadata": {},
   "source": [
    "## Interview Practice Questions"
   ]
  },
  {
   "cell_type": "markdown",
   "id": "9c05104d",
   "metadata": {},
   "source": [
    "R-Squared Values\n",
    "Suppose you built a model with some features. Now, you add another variable to the model. Which of the following statements are true? (More than one option may be correct.)\n",
    "\n",
    "\n",
    "The R-squared value may decrease or increase.\n",
    "\n",
    "\n",
    "The R-squared value will either increase or remain the same.   ✓ Correct\n",
    "\n",
    "The adjusted R-squared value may increase or decrease.     ✓ Correct"
   ]
  },
  {
   "cell_type": "code",
   "execution_count": null,
   "id": "afe99325",
   "metadata": {},
   "outputs": [],
   "source": []
  },
  {
   "cell_type": "markdown",
   "id": "bb23f115",
   "metadata": {},
   "source": [
    "Overfitting\n",
    "Overfitting is more probable when ___.\n",
    "\n",
    "\n",
    "The number of datapoints is higher\n",
    "\n",
    "\n",
    "The number of datapoints is lower.    ✓ Correct"
   ]
  },
  {
   "cell_type": "code",
   "execution_count": null,
   "id": "f57e71a7",
   "metadata": {},
   "outputs": [],
   "source": []
  },
  {
   "cell_type": "markdown",
   "id": "749db8b2",
   "metadata": {},
   "source": [
    "VIF\n",
    "VIF is a measure of ___.\n",
    "\n",
    "\n",
    "How well a predictor variable is correlated with all the other variables, including the target variable\n",
    "\n",
    "\n",
    "How well a predictor variable is correlated with all the other variables, excluding the target variable     ✓ Correct"
   ]
  },
  {
   "cell_type": "code",
   "execution_count": null,
   "id": "e5134358",
   "metadata": {},
   "outputs": [],
   "source": []
  },
  {
   "cell_type": "markdown",
   "id": "59fc8589",
   "metadata": {},
   "source": [
    "Calculating VIF\n",
    "Suppose you were predicting the sales of a company using two variables, 'Social Media Marketing' and 'TV Marketing'. You found out that the correlation between these two variables is 0.9. What will the approximate value of VIF be for either of them?\n",
    "\n",
    "\n",
    "0.81\n",
    "\n",
    "\n",
    "1.23\n",
    "\n",
    "\n",
    "5.26    ✓ Correct"
   ]
  },
  {
   "cell_type": "code",
   "execution_count": null,
   "id": "bdbd0763",
   "metadata": {},
   "outputs": [],
   "source": []
  },
  {
   "cell_type": "markdown",
   "id": "bcaeff9a",
   "metadata": {},
   "source": [
    "Dummy Variables\n",
    "Suppose you have 'n' categorical variables, each with 'm' levels. How many dummy variables would you need to represent all the levels of all the categorical variables?\n",
    "\n",
    "\n",
    "m * n\n",
    "\n",
    "\n",
    "(m + 1) * n\n",
    "\n",
    "\n",
    "m * (n - 1)\n",
    "\n",
    "\n",
    "(m - 1) * n     ✓ Correct"
   ]
  },
  {
   "cell_type": "code",
   "execution_count": null,
   "id": "31dd1cd2",
   "metadata": {},
   "outputs": [],
   "source": []
  },
  {
   "cell_type": "markdown",
   "id": "343945c6",
   "metadata": {},
   "source": [
    "Automated Feature Selection\n",
    "Which of the following is/are an example of an automated approach for linear regression?\n",
    "\n",
    "\n",
    "Recursive feature elimination\n",
    "\n",
    "✓ Correct\n",
    "\n",
    "Stepwise selection using AIC\n",
    "\n",
    "✓ Correct\n",
    "\n",
    "Regularisation\n",
    "\n",
    "✓ Correct"
   ]
  },
  {
   "cell_type": "code",
   "execution_count": null,
   "id": "7c0788ae",
   "metadata": {},
   "outputs": [],
   "source": []
  },
  {
   "cell_type": "markdown",
   "id": "d697bdea",
   "metadata": {},
   "source": [
    "Redundant Variables\n",
    "After performing inferences on a linear model built with several variables, you concluded that the variable ‘r’ was almost described by other feature variables. This meant that the variable ‘r’ ___.\n",
    "\n",
    "\n",
    "Had a high p-value\n",
    "\n",
    "\n",
    "Had a low p-value\n",
    "\n",
    "\n",
    "Had a high VIF    ✓ Correct"
   ]
  },
  {
   "cell_type": "code",
   "execution_count": null,
   "id": "27ad79b3",
   "metadata": {},
   "outputs": [],
   "source": []
  },
  {
   "cell_type": "markdown",
   "id": "2164ceeb",
   "metadata": {},
   "source": [
    "## Graded Questions"
   ]
  },
  {
   "cell_type": "markdown",
   "id": "6ef89a7e",
   "metadata": {},
   "source": [
    "Comprehension Questions\n",
    "If \n",
    "β\n",
    "1\n",
    "=\n",
    "β\n",
    "2\n",
    "=\n",
    "0\n",
    " holds and \n",
    "β\n",
    "3\n",
    " = 0 fails to hold, then what can you conclude?\n",
    "\n",
    "\n",
    "There is a high correlation between \n",
    "x\n",
    "1\n",
    " and \n",
    "x\n",
    "2.\n",
    "\n",
    "\n",
    "There is a linear relationship between the outcome variable(Y) and \n",
    "x\n",
    "3.                 ✓ Correct"
   ]
  },
  {
   "cell_type": "code",
   "execution_count": null,
   "id": "1831d083",
   "metadata": {},
   "outputs": [],
   "source": []
  },
  {
   "cell_type": "markdown",
   "id": "1dd13380",
   "metadata": {},
   "source": [
    "Comprehension Questions\n",
    "If \n",
    "β\n",
    "1\n",
    "  = \n",
    "β\n",
    "2\n",
    " = \n",
    "β\n",
    "3\n",
    " = 0 holds true, what can you conclude?\n",
    "\n",
    "\n",
    "There is no linear relationship between y and any of the three independent variables.    ✓ Correct"
   ]
  },
  {
   "cell_type": "code",
   "execution_count": null,
   "id": "ec8d091a",
   "metadata": {},
   "outputs": [],
   "source": []
  },
  {
   "cell_type": "markdown",
   "id": "54bec35c",
   "metadata": {},
   "source": [
    "Graded Questions\n",
    "An analyst observes a positive relationship between digital marketing expenses and online sales for a firm. However, she intuitively feels that she should add an additional predictor variable, one that has a high correlation with marketing expenses.\n",
    "\n",
    "If the analyst adds this independent variable to the model, which of the following could happen? (More than one option may be correct.)\n",
    "\n",
    "\n",
    "The model’s R-squared could decrease.\n",
    "\n",
    "\n",
    "The model’s adjusted R-squared could decrease.     ✓ Correct\n",
    "\n",
    "The beta-coefficient for the predictor digital marketing expenses will remain the same.\n",
    "\n",
    "\n",
    "The relationship between marketing expenses and sales could become insignificant.    ✓ Correct"
   ]
  },
  {
   "cell_type": "code",
   "execution_count": null,
   "id": "47cd9523",
   "metadata": {},
   "outputs": [],
   "source": []
  },
  {
   "cell_type": "markdown",
   "id": "fd5ca63b",
   "metadata": {},
   "source": [
    "Graded Questions\n",
    "Suppose you need to build a model on a dataset that contains 2 categorical variables with 2 and 4 levels, respectively. How many dummy variables should you create for model building?\n",
    "\n",
    "\n",
    "4   ✓ Correct"
   ]
  },
  {
   "cell_type": "code",
   "execution_count": null,
   "id": "2cc1d7d1",
   "metadata": {},
   "outputs": [],
   "source": []
  },
  {
   "cell_type": "markdown",
   "id": "21997f5f",
   "metadata": {},
   "source": [
    "Redundant Variables\n",
    "If one of the feature variables, say, A is being explained well by some of the other feature variables, this would mean that the variable A has ___.\n",
    "\n",
    "\n",
    "A high p-value\n",
    "\n",
    "\n",
    "A low p-value\n",
    "\n",
    "\n",
    "A high VIF     ✓ Correct"
   ]
  },
  {
   "cell_type": "code",
   "execution_count": null,
   "id": "ea7ca521",
   "metadata": {},
   "outputs": [],
   "source": []
  },
  {
   "cell_type": "markdown",
   "id": "d7818a08",
   "metadata": {},
   "source": [
    "# Multiple Linear Regression in Python"
   ]
  },
  {
   "cell_type": "markdown",
   "id": "3b1f0450",
   "metadata": {},
   "source": [
    "## Reading and Understanding the Data"
   ]
  },
  {
   "cell_type": "markdown",
   "id": "dc7788fe",
   "metadata": {},
   "source": [
    "Interpreting Box Plots\n",
    "You obtained the following box plot from the notebook:\n",
    "\n",
    "\n",
    "\n",
    "What can you say, from the figure above, about the median of the category ‘semi-furnished with airconditioning’?\n",
    "\n",
    "\n",
    "It lies between 0.8 and 1.0\n",
    "\n",
    "\n",
    "It lies between 0.6 and 0.8\n",
    "\n",
    "\n",
    "It lies between 0.4 and 0.6    ✓ Correct"
   ]
  },
  {
   "cell_type": "code",
   "execution_count": null,
   "id": "df1146c2",
   "metadata": {},
   "outputs": [],
   "source": []
  },
  {
   "cell_type": "markdown",
   "id": "f07a36c9",
   "metadata": {},
   "source": [
    "## Data Preparation"
   ]
  },
  {
   "cell_type": "code",
   "execution_count": null,
   "id": "23e34548",
   "metadata": {},
   "outputs": [],
   "source": [
    "Mapping Variables\n",
    "Description\n",
    "You're given two lists, the first of which contains the name of some people and the second contains their corresponding 'response'. These lists have been converted to a dataframe.\n",
    "Now, the values that the 'response' variable can take are ‘Yes’, ‘No’, and ‘Maybe’. Write a code to map these variables to the values ‘1.0’, ‘0.0’, and ‘0.5’.\n",
    "\n",
    "Note: It also might happen the the first letter of the three responses are not in uppercase, i.e. you might also have the values 'yes', 'no', and 'maybe' in the dataframe. So make sure you handle that in your code.\n",
    "\n",
    "Example:\n",
    "Input 1:\n",
    "['Reetesh', 'Shruti', 'Kaustubh', 'Vikas', 'Mahima', 'Akshay']\n",
    "['No', 'Maybe', 'yes', 'Yes', 'maybe', 'Yes']\n",
    "Output 1:\n"
   ]
  },
  {
   "cell_type": "markdown",
   "id": "0be1c609",
   "metadata": {},
   "source": [
    " import ast,sys\n",
    "input_str = sys.stdin.read()\n",
    "input_list = ast.literal_eval(input_str)\n",
    "\n",
    "name = input_list[0]\n",
    "\n",
    "response = input_list[1]\n",
    "\n",
    "import pandas as pd \n",
    "df = pd.DataFrame({'Name': name,'Response': response})\n",
    "\n",
    "def response_map(x):\n",
    "    return x.map({'Yes': 1, 'yes': 1, 'No': 0, 'no': 0, 'Maybe': 0.5, 'maybe': 0.5})\n",
    "\n",
    "df[['Response']] = df[['Response']].apply(response_map)\n",
    "\n",
    "print(df)"
   ]
  },
  {
   "cell_type": "code",
   "execution_count": null,
   "id": "b567ad61",
   "metadata": {},
   "outputs": [],
   "source": []
  },
  {
   "cell_type": "markdown",
   "id": "c2066cda",
   "metadata": {},
   "source": [
    "Mapping Variables\n",
    "After you performed binary encoding of the variable ‘MaritalStatus’ with, ‘Married’ corresponding to 1 and ‘Unmarried’ corresponding to 0, you found out that the mean of the variable ‘MaritalStatus’ was 0.6. What does this statement indicate?\n",
    "\n",
    "\n",
    "40% of the people on the list are married.\n",
    "\n",
    "\n",
    "60% of the people on the list are married.     ✓ Correct"
   ]
  },
  {
   "cell_type": "code",
   "execution_count": null,
   "id": "5571ed95",
   "metadata": {},
   "outputs": [],
   "source": []
  },
  {
   "cell_type": "markdown",
   "id": "420c8f37",
   "metadata": {},
   "source": [
    "Encoding Variables\n",
    "Suppose you performed encoding with the variable ‘BloodGroup’ having four levels, ‘A’, ‘B’, ‘AB’, and ‘O’. To perform the encoding, you wish to drop two of the levels, ‘AB’ and ‘O’. Suggest a suitable encoding process that will now represent the four levels.\n",
    "\n",
    "ans:\n",
    "\n",
    "A - 10\n",
    "B - 01\n",
    "AB - 11\n",
    "O - 00"
   ]
  },
  {
   "cell_type": "code",
   "execution_count": null,
   "id": "f31d1998",
   "metadata": {},
   "outputs": [],
   "source": []
  },
  {
   "cell_type": "markdown",
   "id": "fbed32af",
   "metadata": {},
   "source": [
    "## Building the Model - II"
   ]
  },
  {
   "cell_type": "markdown",
   "id": "26f85173",
   "metadata": {},
   "source": [
    "Elimination based on VIF\n",
    "Suppose the VIFs obtained for five different variables are as follows:\n",
    "\n",
    "X1\t7.12\n",
    "X2\t5.53\n",
    "X3\t5.01\n",
    "X4\t3.45\n",
    "X5\t2.68\n",
    " \n",
    "\n",
    "Assuming that you’re dropping variables only on the basis of VIF and a VIF > 5 is not acceptable, which of these variables will you definitely drop?\n",
    "\n",
    "\n",
    "X1    ✓ Correct"
   ]
  },
  {
   "cell_type": "code",
   "execution_count": null,
   "id": "9fb9c911",
   "metadata": {},
   "outputs": [],
   "source": []
  },
  {
   "cell_type": "markdown",
   "id": "baf2a250",
   "metadata": {},
   "source": [
    "## Variable Selection using RFE"
   ]
  },
  {
   "cell_type": "markdown",
   "id": "74c136f8",
   "metadata": {},
   "source": [
    "Elimination based on RFE\n",
    "You performed RFE on a dataset to select 10 out of a total of 13 features. Following is the output for the 13 features you get on performing the RFE:\n",
    "\n",
    "\n",
    "\n",
    "But now, you decided that you want 11 features in the model. Clearly, you need not run the RFE code again; you can simply use the above output. So based on the above output, which of the features will you eliminate?\n",
    "\n",
    "\n",
    "unfurnished and basement\n",
    "\n",
    "\n",
    "unfurnished and semi-furnished\n",
    "\n",
    "\n",
    "basement and semi-furnished     ✓ Correct"
   ]
  },
  {
   "cell_type": "code",
   "execution_count": null,
   "id": "577afc8e",
   "metadata": {},
   "outputs": [],
   "source": []
  },
  {
   "cell_type": "markdown",
   "id": "41300029",
   "metadata": {},
   "source": [
    "## Interview Practice Questions"
   ]
  },
  {
   "cell_type": "markdown",
   "id": "75a6e1f7",
   "metadata": {},
   "source": [
    "Residuals\n",
    "In regression analysis, which of the statements is true?\n",
    "\n",
    "\n",
    "The mean of residuals is always equal to zero.    ✓ Correct\n",
    "\n",
    "The mean of residuals is less than zero at all times.\n",
    " \n",
    "\n",
    "\n",
    "The sum of residuals is more than zero at all times.\n",
    " \n",
    "\n",
    "\n",
    "The sum of residuals is always equal to zero.     ✓ Correct"
   ]
  },
  {
   "cell_type": "code",
   "execution_count": null,
   "id": "510e2a2b",
   "metadata": {},
   "outputs": [],
   "source": []
  },
  {
   "cell_type": "markdown",
   "id": "a1bc7bc3",
   "metadata": {},
   "source": [
    "Linear regression\n",
    "Which of the following is incorrect about linear regression?\n",
    "\n",
    "\n",
    "Linear regression is very sensitive to data anomalies.\n",
    " \n",
    "\n",
    "\n",
    "Linear regression performs poorly when there are non-linear relationships.\n",
    "\n",
    "\n",
    "Linear regression guarantees interpolation but not extrapolation.\n",
    "\n",
    "\n",
    "Linear regression assumes that the data points are not independent (i.e. One observation might be affected by another).    ✓ Correct"
   ]
  },
  {
   "cell_type": "code",
   "execution_count": null,
   "id": "283f554c",
   "metadata": {},
   "outputs": [],
   "source": []
  },
  {
   "cell_type": "markdown",
   "id": "129473ff",
   "metadata": {},
   "source": [
    "Overfitting\n",
    "State True or False:\n",
    "\n",
    "Overfitting leads to a very high value of R-squared, which is misleading since the model is not actually a good predictor.\n",
    "\n",
    "\n",
    "True   ✓ Correct"
   ]
  },
  {
   "cell_type": "code",
   "execution_count": null,
   "id": "94bd1c4d",
   "metadata": {},
   "outputs": [],
   "source": []
  },
  {
   "cell_type": "markdown",
   "id": "1b398d36",
   "metadata": {},
   "source": [
    "R-squared\n",
    "Which of the following will help you in effectively comparing models (built on the same dataset) with different numbers of features?\n",
    "\n",
    "\n",
    "R-squared\n",
    "\n",
    "\n",
    "R-squared-adjusted    ✓ Correct"
   ]
  },
  {
   "cell_type": "code",
   "execution_count": null,
   "id": "ddae663c",
   "metadata": {},
   "outputs": [],
   "source": []
  },
  {
   "cell_type": "markdown",
   "id": "f397d49b",
   "metadata": {},
   "source": [
    "Overfitting\n",
    "Assume that a model has zero training error. i.e. it has completely memorised the training data(a case of overfitting). Which of the following statements is definitely true in this case:\n",
    "\n",
    "\n",
    "The prediction error on the test set cannot be zero\n",
    "\n",
    "\n",
    "The prediction error on the test set will always be very high\n",
    "\n",
    "\n",
    "None of the above    ✓ Correct"
   ]
  },
  {
   "cell_type": "code",
   "execution_count": null,
   "id": "dd72b395",
   "metadata": {},
   "outputs": [],
   "source": []
  },
  {
   "cell_type": "markdown",
   "id": "3fdc31fd",
   "metadata": {},
   "source": [
    "Imputing categorical variables\n",
    "Consider the following dataset:\n",
    "\n",
    "   sepal-length  sepal-width  petal-length  petal-width        class\n",
    "0           5.1          3.5           1.4          0.2  Iris-setosa\n",
    "1           4.9          3.0           1.4          0.2  Iris-setosa\n",
    "2           4.7          3.2           1.3          0.2  Iris-setosa\n",
    "3           4.6          3.1           1.5          0.2  Iris-setosa\n",
    "4           5.0          3.6           1.4          0.2  Iris-setosa\n",
    "Consider that the column class which has missing values, which metric would you impute the missing values with?\n",
    "\n",
    "\n",
    "Mean\n",
    "\n",
    "\n",
    "Median\n",
    "\n",
    "\n",
    "Mode     ✓ Correct"
   ]
  },
  {
   "cell_type": "code",
   "execution_count": null,
   "id": "e53878bf",
   "metadata": {},
   "outputs": [],
   "source": []
  },
  {
   "cell_type": "markdown",
   "id": "2f5be7e6",
   "metadata": {},
   "source": [
    "## Graded Questions"
   ]
  },
  {
   "cell_type": "markdown",
   "id": "aba6f3ec",
   "metadata": {},
   "source": [
    "Elimination based on p-values\n",
    "Suppose you're trying to predict the gross collection of a movie based on the following five factors: 'Budget', 'Average Critic Score', 'Facebook Likes', 'Number of Tweets', and 'Number of Screens'.\n",
    "\n",
    "You obtained the following p-values for the five variables after fitting a regression line. Assuming you're only using p-value as a criteria to drop the variables and a p-value > 0.05 is not acceptable, which of these variables do you think is not significant in the prediction of gross collections and should be definitely dropped? Only one option is correct.\n",
    "\n",
    "Budget\t0.03\n",
    "Average Critic Review\t0.21\n",
    "Facebook Likes\t0.11\n",
    "Number of Tweets\t0.32\n",
    "Number of Screens\t0.01\n",
    " \n",
    "\n",
    "\n",
    "Number of Tweets    ✓ Correct"
   ]
  },
  {
   "cell_type": "code",
   "execution_count": null,
   "id": "6e27cccc",
   "metadata": {},
   "outputs": [],
   "source": []
  },
  {
   "cell_type": "markdown",
   "id": "ea277d08",
   "metadata": {},
   "source": [
    "Scaling Variables\n",
    "Which of the following is/are true regarding the scaling of variables? More than one option(s) may be correct.\n",
    "\n",
    "\n",
    "Scaling should be done before the test-train split.\n",
    "\n",
    "\n",
    "Scaling should be done after the test-train split.     ✓ Correct\n",
    "\n",
    "Standardised scaling will affect the values of dummy variables but MinMax scaling will not.     ✓ Correct"
   ]
  },
  {
   "cell_type": "code",
   "execution_count": null,
   "id": "938568c1",
   "metadata": {},
   "outputs": [],
   "source": []
  },
  {
   "cell_type": "markdown",
   "id": "ad742aeb",
   "metadata": {},
   "source": [
    "Multiple Linear Regression\n",
    "Consider you are performing multiple linear regression where X1 and X2 are independent variables and Y is the dependent variable. What can you say about the coefficient of X1 and value of y in the regression equation? \n",
    "\n",
    "\n",
    "1. \n",
    "The predicted value of Y increases by \n",
    "β\n",
    "1\n",
    " for a unit increase in X1, irrespective of a change in X2.\n",
    "\n",
    "2. \n",
    "The predicted value of Y increases by \n",
    "β\n",
    "1\n",
    " for a unit increase in X1, given X2 does not change.     ✓ Correct"
   ]
  },
  {
   "cell_type": "code",
   "execution_count": null,
   "id": "2a37efe1",
   "metadata": {},
   "outputs": [],
   "source": []
  },
  {
   "cell_type": "markdown",
   "id": "bdff3573",
   "metadata": {},
   "source": [
    "Rsq-Adjusted\n",
    "In the R-squared Adjusted metric, R-squared is “adjusted” or modified according to:\n",
    "\n",
    "\n",
    "Number of predictors     ✓ Correct\n",
    "\n",
    "Sample size    ✓ Correct"
   ]
  },
  {
   "cell_type": "code",
   "execution_count": null,
   "id": "d16fb6fb",
   "metadata": {},
   "outputs": [],
   "source": []
  },
  {
   "cell_type": "markdown",
   "id": "ec5f99ab",
   "metadata": {},
   "source": [
    "# Industry Relevance of Linear Regression"
   ]
  },
  {
   "cell_type": "markdown",
   "id": "19e48825",
   "metadata": {},
   "source": [
    "## Linear Regression - Revision"
   ]
  },
  {
   "cell_type": "markdown",
   "id": "44d001d5",
   "metadata": {},
   "source": [
    "Using Linear Regression\n",
    "In which of the following cases can linear regression be used?\n",
    "\n",
    "\n",
    "upGrad is looking to admit new students in its Data Analytics program. Potential students are asked to fill various parameters, such as previous company, grades and experience. They need this data to figure out if an applicant would be a good fit for the program.\n",
    "\n",
    "\n",
    "Flipkart is trying to analyse user details and past purchases to identify segments where users can be targeted for advertisements.\n",
    "\n",
    "\n",
    "A researcher wishes to find out the amount of rainfall on a given day, given that pressure, temperature and wind conditions are known.    ✓ Correct"
   ]
  },
  {
   "cell_type": "code",
   "execution_count": null,
   "id": "0829a427",
   "metadata": {},
   "outputs": [],
   "source": []
  },
  {
   "cell_type": "markdown",
   "id": "cdd5d2b3",
   "metadata": {},
   "source": [
    "## Prediction vs Projection"
   ]
  },
  {
   "cell_type": "markdown",
   "id": "b8dc108e",
   "metadata": {},
   "source": [
    "Projection\n",
    "Which of the following is true in case of projection? (More than one option may be correct.)\n",
    "\n",
    "\n",
    "Projection focuses on the identification of variables that are important in explaining the outcome, rather than how good the final outcome is.\n",
    "\n",
    "\n",
    "While making a projection, it is assumed that the conditions under which the model was built continue to be the same.    ✓ Correct\n",
    "\n",
    "It is better to get a simple model with lower accuracy than a complex model with high accuracy.\n",
    "\n",
    "\n",
    "The accuracy of the final outcome is more important than the identification of the most important driver variables.     ✓ Correct"
   ]
  },
  {
   "cell_type": "code",
   "execution_count": null,
   "id": "720616f5",
   "metadata": {},
   "outputs": [],
   "source": []
  },
  {
   "cell_type": "markdown",
   "id": "3cebb11e",
   "metadata": {},
   "source": [
    "## Model Building - I"
   ]
  },
  {
   "cell_type": "markdown",
   "id": "79190870",
   "metadata": {},
   "source": [
    "Lag Views\n",
    "Is Lag_views a significant predictor of Show_views when modelled along the Weekend, Visitors and Character_A variables?\n",
    "\n",
    "\n",
    "Yes    ✓ Correct"
   ]
  },
  {
   "cell_type": "code",
   "execution_count": null,
   "id": "aa5c55c4",
   "metadata": {},
   "outputs": [],
   "source": []
  },
  {
   "cell_type": "markdown",
   "id": "ee2f3fce",
   "metadata": {},
   "source": [
    "Correlation\n",
    "What is the correlation between Lag_views and Views_show?\n",
    "\n",
    "0.42\n",
    "\n",
    "✓ Correct"
   ]
  },
  {
   "cell_type": "code",
   "execution_count": null,
   "id": "9d641408",
   "metadata": {},
   "outputs": [],
   "source": []
  },
  {
   "cell_type": "markdown",
   "id": "5e60055d",
   "metadata": {},
   "source": [
    "## Model Building - II"
   ]
  },
  {
   "cell_type": "markdown",
   "id": "7af8b17d",
   "metadata": {},
   "source": [
    "Finding Correlation\n",
    "What is the correlation between Views_platform and Visitors?\n",
    "\n",
    "\n",
    "0.43\n",
    "\n",
    "\n",
    "0.94   ✓ Correct"
   ]
  },
  {
   "cell_type": "code",
   "execution_count": null,
   "id": "be384dad",
   "metadata": {},
   "outputs": [],
   "source": []
  },
  {
   "cell_type": "markdown",
   "id": "0a0a1ffa",
   "metadata": {},
   "source": [
    "## Model Building - III"
   ]
  },
  {
   "cell_type": "markdown",
   "id": "f0994da3",
   "metadata": {},
   "source": [
    "Cricket Match\n",
    "A cricket match between Australia and India is taking place over the weekend. Should the producers be worried about losing show viewers to the match?\n",
    "\n",
    "\n",
    "Yes\n",
    "\n",
    "\n",
    "No   ✓ Correct"
   ]
  },
  {
   "cell_type": "code",
   "execution_count": 6,
   "id": "154a9823",
   "metadata": {},
   "outputs": [],
   "source": [
    "import jovian"
   ]
  },
  {
   "cell_type": "code",
   "execution_count": 7,
   "id": "f214e1a4",
   "metadata": {},
   "outputs": [
    {
     "data": {
      "application/javascript": [
       "window.require && require([\"base/js/namespace\"],function(Jupyter){Jupyter.notebook.save_checkpoint()})"
      ],
      "text/plain": [
       "<IPython.core.display.Javascript object>"
      ]
     },
     "metadata": {},
     "output_type": "display_data"
    },
    {
     "name": "stdout",
     "output_type": "stream",
     "text": [
      "[jovian] Updating notebook \"ashutoshgole18/module-1-linear-regression\" on https://jovian.ai/\u001b[0m\n",
      "[jovian] Committed successfully! https://jovian.ai/ashutoshgole18/module-1-linear-regression\u001b[0m\n"
     ]
    },
    {
     "data": {
      "text/plain": [
       "'https://jovian.ai/ashutoshgole18/module-1-linear-regression'"
      ]
     },
     "execution_count": 7,
     "metadata": {},
     "output_type": "execute_result"
    }
   ],
   "source": [
    "jovian.commit()"
   ]
  },
  {
   "cell_type": "code",
   "execution_count": null,
   "id": "fded3a7e",
   "metadata": {},
   "outputs": [],
   "source": []
  }
 ],
 "metadata": {
  "kernelspec": {
   "display_name": "Python 3 (ipykernel)",
   "language": "python",
   "name": "python3"
  },
  "language_info": {
   "codemirror_mode": {
    "name": "ipython",
    "version": 3
   },
   "file_extension": ".py",
   "mimetype": "text/x-python",
   "name": "python",
   "nbconvert_exporter": "python",
   "pygments_lexer": "ipython3",
   "version": "3.9.7"
  }
 },
 "nbformat": 4,
 "nbformat_minor": 5
}
